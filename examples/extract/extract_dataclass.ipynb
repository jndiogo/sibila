{
 "cells": [
  {
   "cell_type": "markdown",
   "id": "94a4ab50-3898-4865-ab3b-a3a80cbb0c38",
   "metadata": {},
   "source": [
    "This is the Python dataclass version of of the Pydantic extraction example. \n",
    "\n",
    "We'll extract information about all persons mentioned in a text.\n",
    "\n",
    "To use a local model, make sure you have its file in the folder \"../../models\". You can use any GGUF format model - [see here how to download the OpenChat model used below](https://jndiogo.github.io/sibila/models/local_model/#examples). If you use a different one, don't forget to set its filename in the name variable below, after the text \"llamacpp:\".\n",
    "\n",
    "To use an OpenAI model, make sure you defined the env variable OPENAI_API_KEY with a valid token and uncomment the line after \"# to use an OpenAI model:\".\n",
    "\n",
    "Jupyter notebook and Python script versions are available in the example's folder.\n",
    "\n",
    "Start by creating the model:"
   ]
  },
  {
   "cell_type": "code",
   "execution_count": 1,
   "id": "d422f357-efb9-48c8-808b-9b8a76975c55",
   "metadata": {},
   "outputs": [],
   "source": [
    "from sibila import Models\n",
    "\n",
    "# delete any previous model\n",
    "try: del model\n",
    "except: ...\n",
    "\n",
    "# to use a local model, assuming it's in ../../models:\n",
    "# setup models folder:\n",
    "Models.setup(\"../../models\")\n",
    "# set the model's filename - change to your own model\n",
    "model = Models.create(\"llamacpp:openchat-3.5-1210.Q4_K_M.gguf\")\n",
    "\n",
    "# to use an OpenAI model:\n",
    "# model = Models.create(\"openai:gpt-4\")"
   ]
  },
  {
   "cell_type": "markdown",
   "id": "067ebc4d-8a81-41ae-87d6-a866b0b54396",
   "metadata": {},
   "source": [
    "We'll use this text written in a flamboyant style, courtesy GPT three and a half:"
   ]
  },
  {
   "cell_type": "code",
   "execution_count": 2,
   "id": "d1fbebb3-bb0f-4bc4-bbbe-535e1de1ce26",
   "metadata": {},
   "outputs": [],
   "source": [
    "text = \"\"\"\\\n",
    "It was a breezy afternoon in a bustling café nestled in the heart of a vibrant city. Five strangers found themselves drawn together by the aromatic allure of freshly brewed coffee and the promise of engaging conversation.\n",
    "\n",
    "Seated at a corner table was Lucy Bennett, a 28-year-old journalist from London, her pen poised to capture the essence of the world around her. Her eyes sparkled with curiosity, mirroring the dynamic energy of her beloved city.\n",
    "\n",
    "Opposite Lucy sat Carlos Ramirez, a 35-year-old architect from the sun-kissed streets of Barcelona. With a sketchbook in hand, he exuded creativity, his passion for design evident in the thoughtful lines that adorned his face.\n",
    "\n",
    "Next to them, lost in the melodies of her guitar, was Mia Chang, a 23-year-old musician from the bustling streets of Tokyo. Her fingers danced across the strings, weaving stories of love and longing, echoing the rhythm of her vibrant city.\n",
    "\n",
    "Joining the trio was Ahmed Khan, a married 40-year-old engineer from the bustling metropolis of Mumbai. With a laptop at his side, he navigated the complexities of technology with ease, his intellect shining through the chaos of urban life.\n",
    "\n",
    "Last but not least, leaning against the counter with an air of quiet confidence, was Isabella Santos, a 32-year-old fashion designer from the romantic streets of Paris. Her impeccable style and effortless grace reflected the timeless elegance of her beloved city.\n",
    "\"\"\"\n",
    "\n",
    "# model instructions text, also known as system message\n",
    "inst_text = \"Extract information.\""
   ]
  },
  {
   "cell_type": "code",
   "execution_count": 3,
   "id": "a7010b72-382d-4383-a616-ae246267dfce",
   "metadata": {},
   "outputs": [
    {
     "name": "stdout",
     "output_type": "stream",
     "text": [
      "Person(first_name='Lucy', last_name='Bennett', age=28, occupation='journalist', source_location='London')\n",
      "Person(first_name='Carlos', last_name='Ramirez', age=35, occupation='architect', source_location='Barcelona')\n",
      "Person(first_name='Mia', last_name='Chang', age=23, occupation='musician', source_location='Tokyo')\n",
      "Person(first_name='Ahmed', last_name='Khan', age=40, occupation='engineer', source_location='Mumbai')\n",
      "Person(first_name='Isabella', last_name='Santos', age=32, occupation='fashion designer', source_location='Paris')\n"
     ]
    }
   ],
   "source": [
    "from dataclasses import dataclass\n",
    "\n",
    "@dataclass\n",
    "class Person:\n",
    "    first_name: str\n",
    "    last_name: str\n",
    "    age: int\n",
    "    occupation: str\n",
    "    source_location: str\n",
    "\n",
    "# model instructions text, also known as system message\n",
    "inst_text = \"Extract information.\"\n",
    "\n",
    "# the input query, including the above text\n",
    "in_text = \"Extract person information from the following text:\\n\\n\" + text\n",
    "\n",
    "out = model.extract(list[Person],\n",
    "                    in_text,\n",
    "                    inst=inst_text)\n",
    "\n",
    "for person in out:\n",
    "    print(person)"
   ]
  },
  {
   "cell_type": "markdown",
   "id": "4e89bed9-2645-44aa-a611-8f8acca882c5",
   "metadata": {},
   "source": [
    "It seems to be doing a good job of extracting the info we requested.\n",
    "\n",
    "Let's add two more fields: the source country (which the model will have to figure from the source location) and a \"details_about_person\" field, which the model should quote from the info in the source text about each person."
   ]
  },
  {
   "cell_type": "code",
   "execution_count": 4,
   "id": "3b344503-cac7-4aa9-900e-20b041f0e304",
   "metadata": {},
   "outputs": [
    {
     "name": "stdout",
     "output_type": "stream",
     "text": [
      "Person(first_name='Lucy', last_name='Bennett', age=28, occupation='journalist', details_about_person='her pen poised to capture the essence of the world around her', source_location='London', source_country='United Kingdom')\n",
      "Person(first_name='Carlos', last_name='Ramirez', age=35, occupation='architect', details_about_person='exuded creativity, passion for design evident in the thoughtful lines that adorned his face', source_location='Barcelona', source_country='Spain')\n",
      "Person(first_name='Mia', last_name='Chang', age=23, occupation='musician', details_about_person='fingers danced across the strings, weaving stories of love and longing', source_location='Tokyo', source_country='Japan')\n",
      "Person(first_name='Ahmed', last_name='Khan', age=40, occupation='engineer', details_about_person='navigated the complexities of technology with ease, intellect shining through the chaos of urban life', source_location='Mumbai', source_country='India')\n",
      "Person(first_name='Isabella', last_name='Santos', age=32, occupation='fashion designer', details_about_person='impeccable style and effortless grace reflected the timeless elegance of her beloved city', source_location='Paris', source_country='France')\n"
     ]
    }
   ],
   "source": [
    "@dataclass\n",
    "class Person:\n",
    "    first_name: str\n",
    "    last_name: str\n",
    "    age: int\n",
    "    occupation: str\n",
    "    details_about_person: str\n",
    "    source_location: str\n",
    "    source_country: str\n",
    "\n",
    "out = model.extract(list[Person],\n",
    "                    in_text,\n",
    "                    inst=inst_text)\n",
    "\n",
    "for person in out:\n",
    "    print(person)"
   ]
  },
  {
   "cell_type": "markdown",
   "id": "862814fa-70c2-47ed-ade2-69312d508601",
   "metadata": {},
   "source": [
    "Quite reasonable: the model is doing a good job and we didn't even add descriptions to the fields - it's inferring what we want from the field names only.\n",
    "\n",
    "Let's now query an attribute that only one of the person have: being married. Adding the \"is_married\" field to the Person dataclass."
   ]
  },
  {
   "cell_type": "code",
   "execution_count": 5,
   "id": "7969a6fd-6e47-4cb0-998a-349ea9ca7aa7",
   "metadata": {},
   "outputs": [
    {
     "name": "stdout",
     "output_type": "stream",
     "text": [
      "Person(first_name='Lucy', last_name='Bennett', age=28, occupation='journalist', details_about_person='her pen poised to capture the essence of the world around her. Her eyes sparkled with curiosity, mirroring the dynamic energy of her beloved city.', source_location='London', source_country='United Kingdom', is_married=False)\n",
      "Person(first_name='Carlos', last_name='Ramirez', age=35, occupation='architect', details_about_person='exuded creativity, his passion for design evident in the thoughtful lines that adorned his face.', source_location='Barcelona', source_country='Spain', is_married=False)\n",
      "Person(first_name='Mia', last_name='Chang', age=23, occupation='musician', details_about_person='her fingers danced across the strings, weaving stories of love and longing, echoing the rhythm of her vibrant city.', source_location='Tokyo', source_country='Japan', is_married=False)\n",
      "Person(first_name='Ahmed', last_name='Khan', age=40, occupation='engineer', details_about_person='navigated the complexities of technology with ease, his intellect shining through the chaos of urban life.', source_location='Mumbai', source_country='India', is_married=True)\n",
      "Person(first_name='Isabella', last_name='Santos', age=32, occupation='fashion designer', details_about_person='her impeccable style and effortless grace reflected the timeless elegance of her beloved city.', source_location='Paris', source_country='France', is_married=False)\n"
     ]
    }
   ],
   "source": [
    "@dataclass\n",
    "class Person:\n",
    "    first_name: str\n",
    "    last_name: str\n",
    "    age: int\n",
    "    occupation: str\n",
    "    details_about_person: str\n",
    "    source_location: str\n",
    "    source_country: str\n",
    "    is_married: bool\n",
    "\n",
    "out = model.extract(list[Person],\n",
    "                    in_text,\n",
    "                    inst=inst_text)\n",
    "\n",
    "for person in out:\n",
    "    print(person)"
   ]
  },
  {
   "cell_type": "markdown",
   "id": "23938697-0ac5-4537-b078-c01fb7d180cf",
   "metadata": {},
   "source": [
    "From the five characters only Ahmed is mentioned to be married, and it is the one that the model marked with the is_married=True attribute."
   ]
  }
 ],
 "metadata": {
  "kernelspec": {
   "display_name": "Python 3 (ipykernel)",
   "language": "python",
   "name": "python3"
  },
  "language_info": {
   "codemirror_mode": {
    "name": "ipython",
    "version": 3
   },
   "file_extension": ".py",
   "mimetype": "text/x-python",
   "name": "python",
   "nbconvert_exporter": "python",
   "pygments_lexer": "ipython3",
   "version": "3.11.6"
  }
 },
 "nbformat": 4,
 "nbformat_minor": 5
}
