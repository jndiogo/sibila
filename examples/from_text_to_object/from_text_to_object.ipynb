{
 "cells": [
  {
   "cell_type": "markdown",
   "id": "2e8282a3-4e3a-43fc-9cf4-2a6642d71720",
   "metadata": {},
   "source": [
    "In this example we'll ask the model to extract keypoints from a text:\n",
    "- First in text format\n",
    "- Then free JSON output\n",
    "- Constrained by a JSON schema\n",
    "- And finally by generating to a Pydantic object\n",
    "\n",
    "We'll see this progression both with a local model and with GPT-4.\n",
    "\n",
    "Let's use this fragment from Wikipedia's entry on the Fiji islands: https://en.wikipedia.org/wiki/"
   ]
  },
  {
   "cell_type": "code",
   "execution_count": 2,
   "id": "1df047d3-502e-46c6-83eb-b49f8f2d2c5b",
   "metadata": {},
   "outputs": [],
   "source": [
    "doc = \"\"\"\\\n",
    "Fiji, officially the Republic of Fiji,[n 2] is an island country in Melanesia,\n",
    "part of Oceania in the South Pacific Ocean. It lies about 1,100 nautical miles \n",
    "(2,000 km; 1,300 mi) north-northeast of New Zealand. Fiji consists of \n",
    "an archipelago of more than 330 islands—of which about 110 are permanently \n",
    "inhabited—and more than 500 islets, amounting to a total land area of about \n",
    "18,300 square kilometres (7,100 sq mi). The most outlying island group is \n",
    "Ono-i-Lau. About 87% of the total population of 924,610 live on the two major \n",
    "islands, Viti Levu and Vanua Levu. About three-quarters of Fijians live on \n",
    "Viti Levu's coasts, either in the capital city of Suva, or in smaller \n",
    "urban centres such as Nadi (where tourism is the major local industry) or \n",
    "Lautoka (where the sugar-cane industry is dominant). The interior of Viti Levu \n",
    "is sparsely inhabited because of its terrain.[13]\n",
    "\n",
    "The majority of Fiji's islands were formed by volcanic activity starting around \n",
    "150 million years ago. Some geothermal activity still occurs today on the islands \n",
    "of Vanua Levu and Taveuni.[14] The geothermal systems on Viti Levu are \n",
    "non-volcanic in origin and have low-temperature surface discharges (of between \n",
    "roughly 35 and 60 degrees Celsius (95 and 140 °F)).\n",
    "\n",
    "Humans have lived in Fiji since the second millennium BC—first Austronesians and \n",
    "later Melanesians, with some Polynesian influences. Europeans first visited Fiji \n",
    "in the 17th century.[15] In 1874, after a brief period in which Fiji was an \n",
    "independent kingdom, the British established the Colony of Fiji. Fiji operated as \n",
    "a Crown colony until 1970, when it gained independence and became known as \n",
    "the Dominion of Fiji. In 1987, following a series of coups d'état, the military \n",
    "government that had taken power declared it a republic. In a 2006 coup, Commodore \n",
    "Frank Bainimarama seized power. In 2009, the Fijian High Court ruled that the \n",
    "military leadership was unlawful. At that point, President Ratu Josefa Iloilo, \n",
    "whom the military had retained as the nominal head of state, formally abrogated \n",
    "the 1997 Constitution and re-appointed Bainimarama as interim prime minister. \n",
    "Later in 2009, Ratu Epeli Nailatikau succeeded Iloilo as president.[16] On 17 \n",
    "September 2014, after years of delays, a democratic election took place. \n",
    "Bainimarama's FijiFirst party won 59.2% of the vote, and international observers \n",
    "deemed the election credible.[17] \n",
    "\"\"\"\n",
    "\n",
    "# this is the text with the model instructions, also known as system message.\n",
    "inst_text = \"Be helpful and provide concise answers.\""
   ]
  },
  {
   "cell_type": "markdown",
   "id": "001027cf-61e7-430f-9b50-b522a72f338e",
   "metadata": {},
   "source": [
    "Create the local model and do our free text query with query_gen()"
   ]
  },
  {
   "cell_type": "code",
   "execution_count": 3,
   "id": "2b6cb220-260b-48f5-b79c-e1fe8d824f49",
   "metadata": {},
   "outputs": [],
   "source": [
    "from sibila import (\n",
    "    ModelDir, GenConf\n",
    ")\n",
    "\n",
    "# adding models/ folder and its config\n",
    "ModelDir.add(\"../../models/modeldir.json\")\n",
    "# to use some other local model, change the filename in the next line\n",
    "name = \"llamacpp:openchat-3.5-1210.Q4_K_M.gguf\"\n",
    "\n",
    "# delete an previous model if recreating\n",
    "try: del local_model\n",
    "except: ...\n",
    "\n",
    "local_model = ModelDir.create(name)"
   ]
  },
  {
   "cell_type": "code",
   "execution_count": 4,
   "id": "c1e10430-49fe-4208-99d5-28e512a681ca",
   "metadata": {},
   "outputs": [
    {
     "name": "stdout",
     "output_type": "stream",
     "text": [
      "1. Fiji is an island country in Melanesia, part of Oceania in the South Pacific Ocean.\n",
      "2. It consists of more than 330 islands with a total land area of about 18,300 square kilometres (7,100 sq mi).\n",
      "3. About 87% of Fiji's population of 924,610 live on the two major islands, Viti Levu and Vanua Levu.\n",
      "4. The majority of Fiji's islands were formed by volcanic activity starting around 150 million years ago.\n",
      "5. Fiji gained independence from the British in 1970 and became a republic in 1987 after a series of coups d'état.\n"
     ]
    }
   ],
   "source": [
    "in_text = \"Extract 5 keypoints of the following text:\\n\" + doc\n",
    "\n",
    "out = local_model.query_gen(inst_text, in_text)\n",
    "print(out)"
   ]
  },
  {
   "cell_type": "markdown",
   "id": "511b21ef-c628-42e2-acfc-be5ab274a83b",
   "metadata": {},
   "source": [
    "These are reasonale keypoints!\n",
    "\n",
    "Let's now try GPT-4 - create the model object then query:"
   ]
  },
  {
   "cell_type": "code",
   "execution_count": 5,
   "id": "5be5ef65-c09c-438a-9b52-93cc6eea5802",
   "metadata": {},
   "outputs": [
    {
     "name": "stdout",
     "output_type": "stream",
     "text": [
      "1. Fiji is an island country in Melanesia, part of Oceania, located about 1,100 nautical miles northeast of New Zealand, comprising over 330 islands and 500 islets with a total land area of approximately 18,300 square kilometers.\n",
      "\n",
      "2. The population of Fiji is around 924,610, with the majority living on the two main islands, Viti Levu and Vanua Levu, and the capital city is Suva, located on Viti Levu.\n",
      "\n",
      "3. Fiji's islands are mostly of volcanic origin, with ongoing geothermal activity on Vanua Levu and Taveuni, and non-volcanic geothermal systems on Viti Levu.\n",
      "\n",
      "4. Human settlement in Fiji dates back to the second millennium BC, with a history of Austronesian and Melanesian inhabitants, and later European contact in the 17th century. Fiji became a British colony in 1874 and gained independence in 1970.\n",
      "\n",
      "5. Fiji experienced political instability with several coups d'état, becoming a republic in 1987. After a military coup in 2006 and subsequent political turmoil, democratic elections were held in 2014, with the FijiFirst party winning and international observers recognizing the election as credible.\n"
     ]
    }
   ],
   "source": [
    "oai_model = ModelDir.create(\"openai:gpt-4\")\n",
    "\n",
    "out = oai_model.query_gen(inst_text, in_text)\n",
    "print(out)"
   ]
  },
  {
   "cell_type": "markdown",
   "id": "9c52ad1d-74f0-4db0-9efa-403a44400e30",
   "metadata": {},
   "source": [
    "GPT-4 gave more comprehensive keypoints than the local model.\n",
    "\n",
    "Let's now ask for JSON output, taking care to explicitly request it in the query (in_text variable)."
   ]
  },
  {
   "cell_type": "code",
   "execution_count": 6,
   "id": "222d2fb6-deea-4cd4-859a-b2627c4d4319",
   "metadata": {},
   "outputs": [
    {
     "name": "stdout",
     "output_type": "stream",
     "text": [
      "{'keypoints': [{'Fiji_island_country': 'Fiji is an island country in Melanesia, part of Oceania in the South Pacific Ocean.'},\n",
      "               {'geography': 'It lies about 1,100 nautical miles north-northeast of New Zealand and consists of more than 330 islands with a total land area of about 18,300 square kilometres.'},\n",
      "               {'population_distribution': 'About 87% of the total population of 924,610 live on the two major islands, Viti Levu and Vanua Levu.'},\n",
      "               {'island_formation': \"The majority of Fiji's islands were formed by volcanic activity starting around 150 million years ago.\"},\n",
      "               {'history_political_changes': 'Fiji operated as a Crown colony until 1970, became the Dominion of Fiji, and in 2014 held a democratic election after years of political turmoil.'}]}\n"
     ]
    }
   ],
   "source": [
    "import pprint\n",
    "pp = pprint.PrettyPrinter(width=300, sort_dicts=False)\n",
    "\n",
    "in_text = \"Extract 5 keypoints of the following text in JSON format:\\n\\n\" + doc\n",
    "\n",
    "out = local_model.query_json(inst_text, in_text)\n",
    "pp.pprint(out)"
   ]
  },
  {
   "cell_type": "markdown",
   "id": "f2646242-5af8-4012-9c92-ba47efd7b718",
   "metadata": {},
   "source": [
    "Instead of query_gen() we now use query_json() which returns a Python dict. \n",
    "\n",
    "Note how the model chose to return \"title\" and \"description\" keys.\n",
    "\n",
    "What about GPT-4?"
   ]
  },
  {
   "cell_type": "code",
   "execution_count": 7,
   "id": "30733292-4e1a-432d-868e-455a964df4b8",
   "metadata": {},
   "outputs": [
    {
     "name": "stdout",
     "output_type": "stream",
     "text": [
      "{'keypoints': [{'location': 'Fiji is an island country in Melanesia, part of Oceania in the South Pacific Ocean.'},\n",
      "               {'geography': 'Fiji consists of more than 330 islands and over 500 islets, with a total land area of about 18,300 square kilometers.'},\n",
      "               {'population': \"The majority of Fiji's population lives on the two major islands, Viti Levu and Vanua Levu, with a significant concentration in urban centers.\"},\n",
      "               {'history': 'Fiji has been inhabited since the second millennium BC and became an independent kingdom before becoming a British colony and gaining independence in 1970.'},\n",
      "               {'political': \"Fiji experienced a series of coups d'état and became a republic in 1987, with a return to democratic elections in 2014, resulting in FijiFirst party's victory.\"}]}\n"
     ]
    }
   ],
   "source": [
    "out = oai_model.query_json(inst_text, in_text)\n",
    "pp.pprint(out)"
   ]
  },
  {
   "cell_type": "markdown",
   "id": "ea416160-cbae-4e2c-ac87-fbd7a412bbc2",
   "metadata": {},
   "source": [
    "Good keypoints also. Note that instead of \"title\" fields, the model chose to output them as key names.\n",
    "\n",
    "Because we didn't specify which fields we want, each model generates different ones.\n",
    "\n",
    "To specify a fixed format, let's generate by setting a JSON schema that defines which fields and types we want:"
   ]
  },
  {
   "cell_type": "code",
   "execution_count": 8,
   "id": "cbcde685-ac3d-41bd-af6d-ca2ba993fb84",
   "metadata": {},
   "outputs": [],
   "source": [
    "json_schema = {\n",
    "  \"properties\": {\n",
    "    \"keypoint_list\": {\n",
    "      \"description\": \"Keypoint list\",\n",
    "      \"items\": {\n",
    "        \"type\": \"string\",\n",
    "        \"description\": \"Keypoint\"\n",
    "      },\n",
    "      \"type\": \"array\"\n",
    "    }\n",
    "  },\n",
    "  \"required\": [\n",
    "    \"keypoint_list\"\n",
    "  ],\n",
    "  \"type\": \"object\"\n",
    "}"
   ]
  },
  {
   "cell_type": "markdown",
   "id": "2cf9193e-d2e4-4be9-805b-dec7386914b3",
   "metadata": {},
   "source": [
    "This JSON schema simply requests a list of strings.\n",
    "\n",
    "Generate using local model, later GPT-4:"
   ]
  },
  {
   "cell_type": "code",
   "execution_count": 9,
   "id": "ad81cfb8-641e-494a-8815-c90fe56e1349",
   "metadata": {},
   "outputs": [
    {
     "name": "stdout",
     "output_type": "stream",
     "text": [
      "{'keypoint_list': ['Fiji is an island country in Melanesia, part of Oceania in the South Pacific Ocean.',\n",
      "                   \"About 87% of Fiji's total population live on the two major islands, Viti Levu and Vanua Levu.\",\n",
      "                   \"The majority of Fiji's islands were formed by volcanic activity starting around 150 million years ago.\",\n",
      "                   'Humans have lived in Fiji since the second millennium BC, first Austronesians and later Melanesians, with some Polynesian influences.',\n",
      "                   \"In 2014, a democratic election took place, with Bainimarama's FijiFirst party winning 59.2% of the vote.\"]}\n"
     ]
    }
   ],
   "source": [
    "out = local_model.query_json(inst_text,\n",
    "                             in_text,\n",
    "                             json_schema=json_schema)\n",
    "pp.pprint(out)"
   ]
  },
  {
   "cell_type": "code",
   "execution_count": 10,
   "id": "532e8f9f-ab3f-4331-acf9-6e180364a728",
   "metadata": {},
   "outputs": [
    {
     "name": "stdout",
     "output_type": "stream",
     "text": [
      "{'keypoint_list': ['Fiji is an island country in Melanesia, part of Oceania in the South Pacific Ocean.',\n",
      "                   'It comprises over 330 islands and 500 islets, with a total land area of about 18,300 square kilometers.',\n",
      "                   'The majority of the population lives on the two major islands, Viti Levu and Vanua Levu, with the capital city being Suva.',\n",
      "                   \"Fiji's islands were mostly formed by volcanic activity, with some continuing geothermal activity today.\",\n",
      "                   'Fiji became independent from British colonial rule in 1970 and has experienced several coups, with the latest democratic election held in 2014.']}\n"
     ]
    }
   ],
   "source": [
    "out = oai_model.query_json(inst_text,\n",
    "                           in_text,\n",
    "                           json_schema=json_schema)\n",
    "pp.pprint(out)"
   ]
  },
  {
   "cell_type": "markdown",
   "id": "08672f70-37b8-4aea-a9ca-93a06d2d5a75",
   "metadata": {},
   "source": [
    "It has generated a string list, as we specified in the JSON schema.\n",
    "\n",
    "But the problem with JSON schemas is that they're very unintuitive.\n",
    "\n",
    "Let's use Pydantic classes derived from BaseModel, to specify the fields we want returned. This is much simpler to use than than JSON schemas."
   ]
  },
  {
   "cell_type": "code",
   "execution_count": 11,
   "id": "2d86cc6e-8263-44da-a557-b49482f7309c",
   "metadata": {},
   "outputs": [
    {
     "name": "stdout",
     "output_type": "stream",
     "text": [
      "Keypoints(keypoint_list=['Fiji is an island country in Melanesia, part of Oceania in the South Pacific Ocean.', \"About 87% of Fiji's total population live on the two major islands, Viti Levu and Vanua Levu.\", \"The majority of Fiji's islands were formed by volcanic activity starting around 150 million years ago.\", 'Humans have lived in Fiji since the second millennium BC, first Austronesians and later Melanesians, with some Polynesian influences.', \"In 2014, a democratic election took place in Fiji, with Bainimarama's FijiFirst party winning 59.2% of the vote.\"])\n"
     ]
    }
   ],
   "source": [
    "from pydantic import BaseModel, Field\n",
    "from typing import List\n",
    "\n",
    "class Keypoints(BaseModel):\n",
    "    keypoint_list: List[str]\n",
    "\n",
    "out = local_model.query_pydantic(Keypoints,\n",
    "                                 inst_text,\n",
    "                                 in_text)\n",
    "pp.pprint(out)"
   ]
  },
  {
   "cell_type": "code",
   "execution_count": 12,
   "id": "0eac4d8c-c871-4fa6-9d4b-3fdd69c15822",
   "metadata": {},
   "outputs": [
    {
     "name": "stdout",
     "output_type": "stream",
     "text": [
      "Keypoints(keypoint_list=['Fiji is an island country in Melanesia, part of Oceania in the South Pacific Ocean, consisting of over 330 islands and 500 islets.', 'The country lies about 1,100 nautical miles north-northeast of New Zealand and has a total land area of about 18,300 square kilometers.', \"The majority of Fiji's population lives on the two major islands, Viti Levu and Vanua Levu, with significant urban centers in Suva, Nadi, and Lautoka.\", \"Fiji's islands were mostly formed by volcanic activity, with ongoing geothermal activity on Vanua Levu and Taveuni.\", 'Fiji has a complex history, including periods of British colonial rule, independence as a Dominion, military coups, and a return to democratic elections in 2014.'])\n"
     ]
    }
   ],
   "source": [
    "out = oai_model.query_pydantic(Keypoints,\n",
    "                                 inst_text,\n",
    "                                 in_text)\n",
    "pp.pprint(out)"
   ]
  },
  {
   "cell_type": "markdown",
   "id": "f14f2bec-b09d-44d4-b518-4a8a65ce0043",
   "metadata": {},
   "source": [
    "The query_pydantic() method returns an object (of class Keypoints) instantiated with the model output.\n",
    "\n",
    "This allows much simpler handling of the model outputs. See other examples for more interesting objects. In particular, we did not add descriptions to the fields, which are important to help the model understand what we want.\n",
    "\n",
    "Sibila also includes a way to define the types and structure of Python dicts, called dictype, a lighter and easier alternative to using Pydantic."
   ]
  }
 ],
 "metadata": {
  "kernelspec": {
   "display_name": "Python 3 (ipykernel)",
   "language": "python",
   "name": "python3"
  },
  "language_info": {
   "codemirror_mode": {
    "name": "ipython",
    "version": 3
   },
   "file_extension": ".py",
   "mimetype": "text/x-python",
   "name": "python",
   "nbconvert_exporter": "python",
   "pygments_lexer": "ipython3",
   "version": "3.11.6"
  }
 },
 "nbformat": 4,
 "nbformat_minor": 5
}
