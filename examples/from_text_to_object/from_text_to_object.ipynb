{
 "cells": [
  {
   "cell_type": "markdown",
   "id": "2e8282a3-4e3a-43fc-9cf4-2a6642d71720",
   "metadata": {},
   "source": [
    "In this example we'll ask the model to extract keypoints from a text:\n",
    "- First in plain text format\n",
    "- Then free JSON output (with fields selected by the model)\n",
    "- Later constrained by a JSON schema (so that we can specify which fields)\n",
    "- And finally by generating to a Pydantic object (from a class definition)\n",
    "\n",
    "All the queries will be made at temperature=0, which is the default GenConf setting.\n",
    "This means that the model is giving it's best (as in most probable) answer and that it will always output the same results, given the same inputs.\n",
    "\n",
    "Available as a [Jupyter notebook](from_text_to_object.ipynb) or [Python script](from_text_to_object.py)."
   ]
  },
  {
   "cell_type": "markdown",
   "id": "001027cf-61e7-430f-9b50-b522a72f338e",
   "metadata": {},
   "source": [
    "We'll start by creating either a local model or a GPT-4 model.\n",
    "\n",
    "To use a local model, make sure you have its file in the folder \"../../models\". You can use any GGUF format model - [see here how to download the OpenChat model used below](https://jndiogo.github.io/sibila/setup-local-models/#default-model-used-in-the-examples-openchat). If you use a different one, don't forget to set its filename in the name variable below, after the text \"llamacpp:\".\n",
    "\n",
    "To use an OpenAI model, make sure you defined the env variable OPENAI_API_KEY with a valid token and uncomment the line after \"# to use an OpenAI model:\".\n",
    "For an OpenAI model, make sure you defined the env variable OPENAI_API_KEY with a valid token and uncomment the line after \"# to use an OpenAI model:\"."
   ]
  },
  {
   "cell_type": "code",
   "execution_count": 1,
   "id": "2b6cb220-260b-48f5-b79c-e1fe8d824f49",
   "metadata": {},
   "outputs": [],
   "source": [
    "# load env variables like OPENAI_API_KEY from a .env file (if available)\n",
    "try: from dotenv import load_dotenv; load_dotenv()\n",
    "except: ...\n",
    "\n",
    "from sibila import Models\n",
    "\n",
    "# delete any previous model\n",
    "try: del model\n",
    "except: ...\n",
    "\n",
    "# to use a local model, assuming it's in ../../models:\n",
    "# setup models folder:\n",
    "Models.setup(\"../../models\")\n",
    "# set the model's filename - change to your own model\n",
    "model = Models.create(\"llamacpp:openchat-3.5-1210.Q4_K_M.gguf\")\n",
    "\n",
    "# to use an OpenAI model:\n",
    "# model = Models.create(\"openai:gpt-4\")"
   ]
  },
  {
   "cell_type": "markdown",
   "id": "58a99b7d-061c-4e58-9ff9-a5e3b22c4a83",
   "metadata": {},
   "source": [
    "Let's use this fragment from Wikipedia's entry on the Fiji islands: https://en.wikipedia.org/wiki/"
   ]
  },
  {
   "cell_type": "code",
   "execution_count": 2,
   "id": "1df047d3-502e-46c6-83eb-b49f8f2d2c5b",
   "metadata": {},
   "outputs": [],
   "source": [
    "doc = \"\"\"\\\n",
    "Fiji, officially the Republic of Fiji,[n 2] is an island country in Melanesia,\n",
    "part of Oceania in the South Pacific Ocean. It lies about 1,100 nautical miles \n",
    "(2,000 km; 1,300 mi) north-northeast of New Zealand. Fiji consists of \n",
    "an archipelago of more than 330 islands—of which about 110 are permanently \n",
    "inhabited—and more than 500 islets, amounting to a total land area of about \n",
    "18,300 square kilometres (7,100 sq mi). The most outlying island group is \n",
    "Ono-i-Lau. About 87% of the total population of 924,610 live on the two major \n",
    "islands, Viti Levu and Vanua Levu. About three-quarters of Fijians live on \n",
    "Viti Levu's coasts, either in the capital city of Suva, or in smaller \n",
    "urban centres such as Nadi (where tourism is the major local industry) or \n",
    "Lautoka (where the sugar-cane industry is dominant). The interior of Viti Levu \n",
    "is sparsely inhabited because of its terrain.[13]\n",
    "\n",
    "The majority of Fiji's islands were formed by volcanic activity starting around \n",
    "150 million years ago. Some geothermal activity still occurs today on the islands \n",
    "of Vanua Levu and Taveuni.[14] The geothermal systems on Viti Levu are \n",
    "non-volcanic in origin and have low-temperature surface discharges (of between \n",
    "roughly 35 and 60 degrees Celsius (95 and 140 °F)).\n",
    "\n",
    "Humans have lived in Fiji since the second millennium BC—first Austronesians and \n",
    "later Melanesians, with some Polynesian influences. Europeans first visited Fiji \n",
    "in the 17th century.[15] In 1874, after a brief period in which Fiji was an \n",
    "independent kingdom, the British established the Colony of Fiji. Fiji operated as \n",
    "a Crown colony until 1970, when it gained independence and became known as \n",
    "the Dominion of Fiji. In 1987, following a series of coups d'état, the military \n",
    "government that had taken power declared it a republic. In a 2006 coup, Commodore \n",
    "Frank Bainimarama seized power. In 2009, the Fijian High Court ruled that the \n",
    "military leadership was unlawful. At that point, President Ratu Josefa Iloilo, \n",
    "whom the military had retained as the nominal head of state, formally abrogated \n",
    "the 1997 Constitution and re-appointed Bainimarama as interim prime minister. \n",
    "Later in 2009, Ratu Epeli Nailatikau succeeded Iloilo as president.[16] On 17 \n",
    "September 2014, after years of delays, a democratic election took place. \n",
    "Bainimarama's FijiFirst party won 59.2% of the vote, and international observers \n",
    "deemed the election credible.[17] \n",
    "\"\"\"\n",
    "\n",
    "# model instructions text, also known as system message\n",
    "inst_text = \"Be helpful and provide concise answers.\""
   ]
  },
  {
   "cell_type": "markdown",
   "id": "8f90895b-3187-4b76-a2f5-b926954d5aa7",
   "metadata": {},
   "source": [
    "Let's start with a free text query by calling model()."
   ]
  },
  {
   "cell_type": "code",
   "execution_count": 3,
   "id": "c1e10430-49fe-4208-99d5-28e512a681ca",
   "metadata": {},
   "outputs": [
    {
     "name": "stdout",
     "output_type": "stream",
     "text": [
      "1. Fiji is an island country located in Melanesia, part of Oceania in the South Pacific Ocean. It lies approximately 1,100 nautical miles north-northeast of New Zealand.\n",
      "2. The country consists of more than 330 islands with about 110 permanently inhabited islands and over 500 islets, totaling a land area of about 18,300 square kilometers.\n",
      "3. Approximately 87% of Fiji's total population of 924,610 live on the two major islands, Viti Levu and Vanua Levu, with a majority living on Viti Levu's coasts.\n",
      "4. The majority of Fiji's islands were formed by volcanic activity starting around 150 million years ago, with some geothermal activity still occurring on certain islands.\n",
      "5. Fiji has a complex history, transitioning from an independent kingdom to a British colony, then a Dominion, and finally a republic after a series of coups and constitutional changes. In 2014, a democratic election took place, marking a significant milestone in the country's political history.\n"
     ]
    }
   ],
   "source": [
    "in_text = \"Extract 5 keypoints of the following text:\\n\" + doc\n",
    "\n",
    "out = model(in_text, inst=inst_text)\n",
    "print(out)"
   ]
  },
  {
   "cell_type": "markdown",
   "id": "511b21ef-c628-42e2-acfc-be5ab274a83b",
   "metadata": {},
   "source": [
    "These are quite reasonable keypoints!\n",
    "\n",
    "Let's now ask for JSON output, taking care to explicitly request it in the query (in_text variable).\n",
    "\n",
    "Instead of model() we now use json() which returns a Python dict.\n",
    "We'll pass None as the first parameter because we're not using a JSON schema."
   ]
  },
  {
   "cell_type": "code",
   "execution_count": 5,
   "id": "222d2fb6-deea-4cd4-859a-b2627c4d4319",
   "metadata": {},
   "outputs": [
    {
     "name": "stdout",
     "output_type": "stream",
     "text": [
      "{'keypoints': [{'title': 'Location', 'description': 'Fiji is an island country in Melanesia, part of Oceania in the South Pacific Ocean.'},\n",
      "               {'title': 'Geography', 'description': 'Consists of more than 330 islands with about 110 permanently inhabited islands.'},\n",
      "               {'title': 'Population', 'description': 'Total population of 924,610 live on the two major islands, Viti Levu and Vanua Levu.'},\n",
      "               {'title': 'History', 'description': 'Humans have lived in Fiji since the second millennium BC with Austronesians, Melanesians, and Polynesian influences.'},\n",
      "               {'title': 'Political Status', 'description': 'Officially known as the Republic of Fiji, gained independence from British rule in 1970.'}]}\n"
     ]
    }
   ],
   "source": [
    "import pprint\n",
    "pp = pprint.PrettyPrinter(width=300, sort_dicts=False)\n",
    "\n",
    "in_text = \"Extract 5 keypoints of the following text in JSON format:\\n\\n\" + doc\n",
    "\n",
    "out = model.json(None,\n",
    "                 in_text,\n",
    "                 inst=inst_text)\n",
    "pp.pprint(out)"
   ]
  },
  {
   "cell_type": "markdown",
   "id": "f2646242-5af8-4012-9c92-ba47efd7b718",
   "metadata": {},
   "source": [
    "Note how the model chose to return different fields like \"title\" or \"description\".\n",
    "\n",
    "Because we didn't specify which fields we want, each model will generate different ones.\n",
    "\n",
    "To specify a fixed format, let's now generate by setting a JSON schema that defines which fields and types we want:"
   ]
  },
  {
   "cell_type": "code",
   "execution_count": 6,
   "id": "cbcde685-ac3d-41bd-af6d-ca2ba993fb84",
   "metadata": {},
   "outputs": [],
   "source": [
    "json_schema = {\n",
    "  \"properties\": {\n",
    "    \"keypoint_list\": {\n",
    "      \"description\": \"Keypoint list\",\n",
    "      \"items\": {\n",
    "        \"type\": \"string\",\n",
    "        \"description\": \"Keypoint\"\n",
    "      },\n",
    "      \"type\": \"array\"\n",
    "    }\n",
    "  },\n",
    "  \"required\": [\n",
    "    \"keypoint_list\"\n",
    "  ],\n",
    "  \"type\": \"object\"\n",
    "}"
   ]
  },
  {
   "cell_type": "markdown",
   "id": "2cf9193e-d2e4-4be9-805b-dec7386914b3",
   "metadata": {},
   "source": [
    "This JSON schema requests that the generated dict constains a \"keypoint_list\" with a list of strings.\n",
    "\n",
    "We'll also use json(), now passing the json_schema as first argument:"
   ]
  },
  {
   "cell_type": "code",
   "execution_count": 7,
   "id": "ad81cfb8-641e-494a-8815-c90fe56e1349",
   "metadata": {},
   "outputs": [
    {
     "name": "stdout",
     "output_type": "stream",
     "text": [
      "{'keypoint_list': ['Fiji is an island country in Melanesia, part of Oceania in the South Pacific Ocean.', 'About 87% of the total population of 924,610 live on the two major islands, Viti Levu and Vanua Levu.', \"The majority of Fiji's islands were formed by volcanic activity starting around 150 million years ago.\", 'Humans have lived in Fiji since the second millennium BC—first Austronesians and later Melanesians, with some Polynesian influences.', \"In 2014, a democratic election took place, with Bainimarama's FijiFirst party winning 59.2% of the vote.\"]}\n"
     ]
    }
   ],
   "source": [
    "out = model.json(json_schema,\n",
    "                 in_text,\n",
    "                 inst=inst_text)\n",
    "\n",
    "print(out)"
   ]
  },
  {
   "cell_type": "code",
   "execution_count": 8,
   "id": "810d7656-85c3-4c60-a045-9e49de8d65c2",
   "metadata": {},
   "outputs": [
    {
     "name": "stdout",
     "output_type": "stream",
     "text": [
      "Fiji is an island country in Melanesia, part of Oceania in the South Pacific Ocean.\n",
      "About 87% of the total population of 924,610 live on the two major islands, Viti Levu and Vanua Levu.\n",
      "The majority of Fiji's islands were formed by volcanic activity starting around 150 million years ago.\n",
      "Humans have lived in Fiji since the second millennium BC—first Austronesians and later Melanesians, with some Polynesian influences.\n",
      "In 2014, a democratic election took place, with Bainimarama's FijiFirst party winning 59.2% of the vote.\n"
     ]
    }
   ],
   "source": [
    "for kpoint in out[\"keypoint_list\"]:\n",
    "    print(kpoint)"
   ]
  },
  {
   "cell_type": "markdown",
   "id": "08672f70-37b8-4aea-a9ca-93a06d2d5a75",
   "metadata": {},
   "source": [
    "It has generated a string list in the \"keypoint_list\" field, as we specified in the JSON schema.\n",
    "\n",
    "This is better, but the problem with JSON schemas is that they can be quite hard to work with.\n",
    "\n",
    "Let's use an easier way to specify the fields we want returned: Pydantic classes derived from BaseModel. This is way simpler to use than JSON schemas."
   ]
  },
  {
   "cell_type": "code",
   "execution_count": 9,
   "id": "2d86cc6e-8263-44da-a557-b49482f7309c",
   "metadata": {},
   "outputs": [
    {
     "name": "stdout",
     "output_type": "stream",
     "text": [
      "keypoint_list=['Fiji is an island country in Melanesia, part of Oceania in the South Pacific Ocean.', 'About 87% of the total population of 924,610 live on the two major islands, Viti Levu and Vanua Levu.', \"The majority of Fiji's islands were formed by volcanic activity starting around 150 million years ago.\", 'Humans have lived in Fiji since the second millennium BC—first Austronesians and later Melanesians, with some Polynesian influences.', \"In 2014, a democratic election took place, with Bainimarama's FijiFirst party winning 59.2% of the vote.\"]\n"
     ]
    }
   ],
   "source": [
    "from pydantic import BaseModel, Field\n",
    "\n",
    "# this class definition will be used to constrain the model output and initialize an instance object\n",
    "class Keypoints(BaseModel):\n",
    "    keypoint_list: list[str]\n",
    "\n",
    "out = model.pydantic(Keypoints,\n",
    "                     in_text,\n",
    "                     inst=inst_text)\n",
    "print(out)"
   ]
  },
  {
   "cell_type": "code",
   "execution_count": 10,
   "id": "20678df6-225b-492f-ad7e-13244e1cdcfe",
   "metadata": {},
   "outputs": [
    {
     "name": "stdout",
     "output_type": "stream",
     "text": [
      "Fiji is an island country in Melanesia, part of Oceania in the South Pacific Ocean.\n",
      "About 87% of the total population of 924,610 live on the two major islands, Viti Levu and Vanua Levu.\n",
      "The majority of Fiji's islands were formed by volcanic activity starting around 150 million years ago.\n",
      "Humans have lived in Fiji since the second millennium BC—first Austronesians and later Melanesians, with some Polynesian influences.\n",
      "In 2014, a democratic election took place, with Bainimarama's FijiFirst party winning 59.2% of the vote.\n"
     ]
    }
   ],
   "source": [
    "for kpoint in out.keypoint_list:\n",
    "    print(kpoint)"
   ]
  },
  {
   "cell_type": "markdown",
   "id": "f14f2bec-b09d-44d4-b518-4a8a65ce0043",
   "metadata": {},
   "source": [
    "The pydantic() method returns an object of class Keypoints, instantiated with the model output.\n",
    "\n",
    "This is a much simpler way to extract structured data from model.\n",
    "\n",
    "Please see other examples for more interesting objects. In particular, we did not add descriptions to the fields, which are important clues to help the model understand what we want.\n",
    "\n",
    "Besides Pydantic classes, Sibila can also use Python's dataclass to extract structured data. This is a lighter and easier alternative to using Pydantic.\n",
    "<!-- TODO: link to dataclass in concepts -->"
   ]
  }
 ],
 "metadata": {
  "kernelspec": {
   "display_name": "Python 3 (ipykernel)",
   "language": "python",
   "name": "python3"
  },
  "language_info": {
   "codemirror_mode": {
    "name": "ipython",
    "version": 3
   },
   "file_extension": ".py",
   "mimetype": "text/x-python",
   "name": "python",
   "nbconvert_exporter": "python",
   "pygments_lexer": "ipython3",
   "version": "3.11.6"
  }
 },
 "nbformat": 4,
 "nbformat_minor": 5
}
