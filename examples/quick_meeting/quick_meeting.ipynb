{
 "cells": [
  {
   "cell_type": "markdown",
   "id": "22d693a5-a54c-4ba8-9ce2-f19896cbfd5c",
   "metadata": {},
   "source": [
    "Let's extract structured data from a meeting transcript, like attendees, action items and their priorities.\n",
    "\n",
    "This is a quick meeting whose transcript is not very large, so a small local model should work well. See the Tough meeting example for a larger and more complex transcription text.\n",
    "\n",
    "To use a local model, make sure you have its file in the folder \"../../models\". You can use any GGUF format model - [see here how to download the OpenChat model used below](https://jndiogo.github.io/sibila/models/local_model/#examples). If you use a different one, don't forget to set its filename in the name variable below, after the text \"llamacpp:\".\n",
    "\n",
    "If you prefer to use an OpenAI model, make sure you defined the env variable OPENAI_API_KEY with a valid token and uncomment the line after \"# to use an OpenAI model:\".\n",
    "\n",
    "Jupyter notebook and Python script versions are available in the example's folder.\n",
    "\n",
    "Let's create the model:"
   ]
  },
  {
   "cell_type": "code",
   "execution_count": 1,
   "id": "f6e3dff5-70e2-49ad-be7a-16712d83780d",
   "metadata": {},
   "outputs": [],
   "source": [
    "from sibila import Models\n",
    "\n",
    "# delete any previous model\n",
    "try: del model\n",
    "except: ...\n",
    "\n",
    "# to use a local model, assuming it's in ../../models:\n",
    "# setup models folder:\n",
    "Models.setup(\"../../models\")\n",
    "# set the model's filename - change to your own model\n",
    "model = Models.create(\"llamacpp:openchat-3.5-1210.Q4_K_M.gguf\")\n",
    "\n",
    "# to use an OpenAI model:\n",
    "# model = Models.create(\"openai:gpt-4\")"
   ]
  },
  {
   "cell_type": "markdown",
   "id": "12f20063-b3a9-4318-b5ad-7a88834cc24f",
   "metadata": {},
   "source": [
    "Here's the transcript we'll be using as source:"
   ]
  },
  {
   "cell_type": "code",
   "execution_count": 2,
   "id": "fbc25a0a-331f-4d23-bd15-761df85bbb41",
   "metadata": {},
   "outputs": [],
   "source": [
    "transcript = \"\"\"\\\n",
    "Date: 10th April 2024\n",
    "Time: 10:30 AM\n",
    "Location: Conference Room A\n",
    "\n",
    "Attendees:\n",
    "    Arthur: Logistics Supervisor\n",
    "    Bianca: Operations Manager\n",
    "    Chris: Fleet Coordinator\n",
    "\n",
    "Arthur: Good morning, team. Thanks for making it. We've got three matters to address quickly today.\n",
    "\n",
    "Bianca: Morning, Arthur. Let's dive in.\n",
    "\n",
    "Chris: Ready when you are.\n",
    "\n",
    "Arthur: First off, we've been having complaints about late deliveries. This is very important, we're getting some bad reputation out there.\n",
    "\n",
    "Bianca: Chris, I think you're the right person to take care of this. Can you investigate and report back by end of day? \n",
    "\n",
    "Chris: Absolutely, Bianca. I'll look into the reasons and propose solutions.\n",
    "\n",
    "Arthur: Great. Second, Bianca, we need to update our driver training manual. Can you take the lead and have a draft by Friday?\n",
    "\n",
    "Bianca: Sure thing, Arthur. I'll get started on that right away.\n",
    "\n",
    "Arthur: Lastly, we need to schedule a meeting with our software vendor to discuss updates to our tracking system. This is a low-priority task but still important. I'll handle that. Any input on timing?\n",
    "\n",
    "Bianca: How about next Wednesday afternoon?\n",
    "\n",
    "Chris: Works for me.\n",
    "\n",
    "Arthur: Sounds good. I'll arrange it. Thanks, Bianca, Chris. Let's keep the momentum going.\n",
    "\n",
    "Bianca: Absolutely, Arthur.\n",
    "\n",
    "Chris: Will do.\n",
    "\"\"\"\n",
    "\n",
    "# model instructions text, also known as system message\n",
    "inst_text = \"Extract information.\""
   ]
  },
  {
   "cell_type": "markdown",
   "id": "6e3f2dd8-4b23-4e43-8a6a-e1f7ded22435",
   "metadata": {},
   "source": [
    "Let's define two Pydantic BaseModel classes whose instances will receive the extracted information:\n",
    "- Attendee: to store information about each meeting attendee\n",
    "- Meeting: to keep meeting's date and location, list of participants and other info we'll see below\n",
    "\n",
    "And let's ask the model to create objects that are instances of these classes:"
   ]
  },
  {
   "cell_type": "code",
   "execution_count": 4,
   "id": "4329fd8e-f335-4f29-90a8-8fddb63e9665",
   "metadata": {},
   "outputs": [
    {
     "name": "stdout",
     "output_type": "stream",
     "text": [
      "meeting_date='10th April 2024' meeting_location='Conference Room A' attendees=[Attendee(name='Arthur', occupation='Logistics Supervisor'), Attendee(name='Bianca', occupation='Operations Manager'), Attendee(name='Chris', occupation='Fleet Coordinator')]\n"
     ]
    }
   ],
   "source": [
    "from pydantic import BaseModel, Field\n",
    "\n",
    "# class definitions will be used to constrain the model output and initialize an instance object\n",
    "class Attendee(BaseModel):\n",
    "    name: str\n",
    "    occupation: str\n",
    "\n",
    "class Meeting(BaseModel):\n",
    "    meeting_date: str\n",
    "    meeting_location: str\n",
    "    attendees: list[Attendee]\n",
    "\n",
    "in_text = \"Extract information from this meeting transcript:\\n\\n\" + transcript\n",
    "\n",
    "out = model.extract(Meeting,\n",
    "                    in_text,\n",
    "                    inst=inst_text)\n",
    "print(out)"
   ]
  },
  {
   "cell_type": "markdown",
   "id": "b0f6364c-336b-413d-bfef-ec3431478f58",
   "metadata": {},
   "source": [
    "A prettier display:"
   ]
  },
  {
   "cell_type": "code",
   "execution_count": 5,
   "id": "0f5e188b-63e4-48b4-93ea-a9306c25c87f",
   "metadata": {},
   "outputs": [
    {
     "name": "stdout",
     "output_type": "stream",
     "text": [
      "Meeting: 10th April 2024 in Conference Room A\n",
      "Attendees:\n",
      "name='Arthur' occupation='Logistics Supervisor'\n",
      "name='Bianca' occupation='Operations Manager'\n",
      "name='Chris' occupation='Fleet Coordinator'\n"
     ]
    }
   ],
   "source": [
    "print(\"Meeting:\", out.meeting_date, \"in\", out.meeting_location)\n",
    "print(\"Attendees:\")\n",
    "for att in out.attendees:\n",
    "    print(att)"
   ]
  },
  {
   "cell_type": "markdown",
   "id": "8344ef20-ad44-4e4b-a478-cfbf282d85bd",
   "metadata": {},
   "source": [
    "This information was correctly extracted.\n",
    "\n",
    "Let's now request the action items mentioned in the meeting. We'll create a new class ActionItem with an index and a name for the item. Note that we're annotating each field with a Field(description=...) information to help the model understand what we're looking extract.\n",
    "\n",
    "We'll also add an action_items field to the Meeting class to hold the items list."
   ]
  },
  {
   "cell_type": "code",
   "execution_count": 6,
   "id": "9e948b35-8307-4e44-bcf8-5715753cdf89",
   "metadata": {},
   "outputs": [
    {
     "name": "stdout",
     "output_type": "stream",
     "text": [
      "Meeting: 10th April 2024 in Conference Room A\n",
      "Attendees:\n",
      "name='Arthur' occupation='Logistics Supervisor'\n",
      "name='Bianca' occupation='Operations Manager'\n",
      "name='Chris' occupation='Fleet Coordinator'\n",
      "Action items:\n",
      "index=1 name='Investigate and report on late deliveries'\n",
      "index=2 name='Update driver training manual'\n",
      "index=3 name='Schedule a meeting with software vendor to discuss tracking system updates'\n"
     ]
    }
   ],
   "source": [
    "class Attendee(BaseModel):\n",
    "    name: str\n",
    "    occupation: str\n",
    "\n",
    "class ActionItem(BaseModel):\n",
    "    index: int = Field(description=\"Sequential index for the action item\")\n",
    "    name: str = Field(description=\"Action item name\")\n",
    "\n",
    "class Meeting(BaseModel):\n",
    "    meeting_date: str\n",
    "    meeting_location: str\n",
    "    attendees: list[Attendee]\n",
    "    action_items: list[ActionItem]\n",
    "\n",
    "out = model.extract(Meeting,\n",
    "                    in_text,\n",
    "                    inst=inst_text)\n",
    "\n",
    "print(\"Meeting:\", out.meeting_date, \"in\", out.meeting_location)\n",
    "print(\"Attendees:\")\n",
    "for att in out.attendees:\n",
    "    print(att)\n",
    "print(\"Action items:\")    \n",
    "for items in out.action_items:\n",
    "    print(items)"
   ]
  },
  {
   "cell_type": "markdown",
   "id": "ae43e9d1-e7ba-4e2a-aab1-3c83e0cf2703",
   "metadata": {},
   "source": [
    "The extracted action items also look good.\n",
    "\n",
    "Let's now extract more action item information:\n",
    "- Priority for each item\n",
    "- Due by... information\n",
    "- Name of the attendee that was assigned for that item \n",
    "\n",
    "So, we create a Priority class holding three priority types - low to high. \n",
    "\n",
    "We also add three fields to the ActionItem class, to hold the new information: priority, due_by and assigned_attendee."
   ]
  },
  {
   "cell_type": "code",
   "execution_count": 7,
   "id": "15e3827e-d0e7-4a1c-93e5-1f4d32947716",
   "metadata": {},
   "outputs": [
    {
     "name": "stdout",
     "output_type": "stream",
     "text": [
      "Meeting: 10th April 2024 in Conference Room A\n",
      "Attendees:\n",
      "name='Arthur' occupation='Logistics Supervisor'\n",
      "name='Bianca' occupation='Operations Manager'\n",
      "name='Chris' occupation='Fleet Coordinator'\n",
      "Action items:\n",
      "index=1 name='Investigate late deliveries' priority=<Priority.HIGH: 'high'> due_by='end of day' assigned_attendee='Chris'\n",
      "index=2 name='Update driver training manual' priority=<Priority.MEDIUM: 'medium'> due_by='Friday' assigned_attendee='Bianca'\n",
      "index=3 name='Schedule meeting with software vendor' priority=<Priority.LOW: 'low'> due_by='next Wednesday afternoon' assigned_attendee='Arthur'\n"
     ]
    }
   ],
   "source": [
    "from enum import Enum\n",
    "\n",
    "class Attendee(BaseModel):\n",
    "    name: str\n",
    "    occupation: str\n",
    "\n",
    "class Priority(str, Enum):\n",
    "    HIGH = \"high\"\n",
    "    MEDIUM = \"medium\"\n",
    "    LOW = \"low\"\n",
    "    \n",
    "class ActionItem(BaseModel):\n",
    "    index: int = Field(description=\"Sequential index for the action item\")\n",
    "    name: str = Field(description=\"Action item name\")\n",
    "    priority: Priority = Field(description=\"Action item priority\")\n",
    "    due_by: str = Field(description=\"When should the item be complete\")\n",
    "    assigned_attendee: str = Field(description=\"Name of the attendee to which action item was assigned\")\n",
    "\n",
    "class Meeting(BaseModel):\n",
    "    meeting_date: str\n",
    "    meeting_location: str\n",
    "    attendees: list[Attendee]\n",
    "    action_items: list[ActionItem]\n",
    "\n",
    "out = model.extract(Meeting,\n",
    "                    in_text,\n",
    "                    inst=inst_text)\n",
    "\n",
    "print(\"Meeting:\", out.meeting_date, \"in\", out.meeting_location)\n",
    "print(\"Attendees:\")\n",
    "for att in out.attendees:\n",
    "    print(att)\n",
    "print(\"Action items:\")    \n",
    "for items in out.action_items:\n",
    "    print(items)"
   ]
  },
  {
   "cell_type": "markdown",
   "id": "bd2ce018-59d3-4802-a835-25c76c7988a7",
   "metadata": {},
   "source": [
    "The new information was correctly extracted: priorities, due by and assigned attendees for each action item.\n",
    "\n",
    "For an example of a harder, more complex transcript see the Tough meeting example."
   ]
  }
 ],
 "metadata": {
  "kernelspec": {
   "display_name": "Python 3 (ipykernel)",
   "language": "python",
   "name": "python3"
  },
  "language_info": {
   "codemirror_mode": {
    "name": "ipython",
    "version": 3
   },
   "file_extension": ".py",
   "mimetype": "text/x-python",
   "name": "python",
   "nbconvert_exporter": "python",
   "pygments_lexer": "ipython3",
   "version": "3.11.6"
  }
 },
 "nbformat": 4,
 "nbformat_minor": 5
}
