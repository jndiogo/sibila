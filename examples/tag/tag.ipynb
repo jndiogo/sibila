{
 "cells": [
  {
   "cell_type": "markdown",
   "id": "595c1971-f0a2-411b-8afe-34c40692547d",
   "metadata": {},
   "source": [
    "In this example we'll summarize and classify customer queries with tags.\n",
    "\n",
    "To use a local model, make sure you have its file in the folder \"../../models/\". You can use any GGUF format model - [see here how to download the OpenChat model used below](../setup_local_models/readme.md#setup-local-models). If you use a different one, don't forget to set its filename in the name variable below, after the text \"llamacpp:\".\n",
    "\n",
    "To use an OpenAI model, make sure you defined the env variable OPENAI_API_KEY with a valid token and uncomment the line after \"# to use an OpenAI model:\".\n",
    "\n",
    "Let's start by creating the model:"
   ]
  },
  {
   "cell_type": "code",
   "execution_count": 7,
   "id": "dd80e6a9-eda6-47b2-aee1-325e5b51c73d",
   "metadata": {},
   "outputs": [],
   "source": [
    "from sibila import ModelDir\n",
    "\n",
    "# delete any previous model\n",
    "try: del model\n",
    "except: ...\n",
    "\n",
    "# to use a local model, assuming it's in ../../models/:\n",
    "# add models folder config which also adds to ModelDir path\n",
    "ModelDir.add(\"../../models/modeldir.json\")\n",
    "# set the model's filename - change to your own model\n",
    "name = \"llamacpp:openchat-3.5-1210.Q4_K_M.gguf\"\n",
    "model = ModelDir.create(name)\n",
    "\n",
    "# to use an OpenAI model:\n",
    "# model = ModelDir.create(\"openai:gpt-4\")"
   ]
  },
  {
   "cell_type": "markdown",
   "id": "d31f814a-773f-4242-b6b1-8724eae245ac",
   "metadata": {},
   "source": [
    "These will be our queries, ten typical customer support questions:"
   ]
  },
  {
   "cell_type": "code",
   "execution_count": 20,
   "id": "5aac00e5-09a5-4041-b46c-62a1cf4190d8",
   "metadata": {},
   "outputs": [],
   "source": [
    "queries = \"\"\"\\\n",
    "1. Do you offer a trial period for your software before purchasing?\n",
    "2. I'm experiencing a glitch with your app, it keeps freezing after the latest update.\n",
    "3. What are the different pricing plans available for your subscription service?\"\n",
    "4. Can you provide instructions on how to reset my account password?\"\n",
    "5. I'm unsure about the compatibility of your product with my device, can you advise?\"\n",
    "6. How can I track my recent order and estimate its delivery date?\"\n",
    "7. Is there a customer loyalty program or rewards system for frequent buyers?\"\n",
    "8. I'm interested in your online courses, but do you offer refunds if I'm not satisfied?\"\n",
    "9. Could you clarify the coverage and limitations of your product warranty?\"\n",
    "10. What are your customer support hours and how can I reach your team in case of emergencies?\n",
    "\"\"\""
   ]
  },
  {
   "cell_type": "markdown",
   "id": "7e089994-7b92-49fd-a3ff-0d2ae961edbc",
   "metadata": {},
   "source": [
    "We'll start by summarizing each query. No need adding field descriptions, the field names should be enough to tell the model about what we want done."
   ]
  },
  {
   "cell_type": "code",
   "execution_count": 26,
   "id": "54733218-1ecc-444a-8c74-1ac97e52cc58",
   "metadata": {},
   "outputs": [
    {
     "name": "stdout",
     "output_type": "stream",
     "text": [
      "id=1 query_summary='Trial period inquiry' query_text='Do you offer a trial period for your software before purchasing?'\n",
      "id=2 query_summary='Technical issue' query_text=\"I'm experiencing a glitch with your app, it keeps freezing after the latest update.\"\n",
      "id=3 query_summary='Pricing inquiry' query_text='What are the different pricing plans available for your subscription service?'\n",
      "id=4 query_summary='Password reset request' query_text='Can you provide instructions on how to reset my account password?'\n",
      "id=5 query_summary='Compatibility inquiry' query_text=\"I'm unsure about the compatibility of your product with my device, can you advise?\"\n",
      "id=6 query_summary='Order tracking' query_text='How can I track my recent order and estimate its delivery date?'\n",
      "id=7 query_summary='Loyalty program inquiry' query_text='Is there a customer loyalty program or rewards system for frequent buyers?'\n",
      "id=8 query_summary='Refund policy inquiry' query_text=\"I'm interested in your online courses, but do you offer refunds if I'm not satisfied?\"\n",
      "id=9 query_summary='Warranty inquiry' query_text='Could you clarify the coverage and limitations of your product warranty?'\n",
      "id=10 query_summary='Customer support hours' query_text='What are your customer support hours and how can I reach your team in case of emergencies?'\n"
     ]
    }
   ],
   "source": [
    "from pydantic import BaseModel, Field\n",
    "from typing import List\n",
    "from enum import Enum\n",
    "\n",
    "class Query(BaseModel):\n",
    "    id: int\n",
    "    query_summary: str\n",
    "    query_text: str\n",
    "    \n",
    "class QueryTags(BaseModel):\n",
    "    queries: List[Query]\n",
    "\n",
    "inst_text = \"Extract information from customer queries.\"\n",
    "in_text = \"Each line is a customer query. Extract information about each query:\\n\\n\" + queries\n",
    "\n",
    "out = model.query_pydantic(QueryTags,\n",
    "                           inst_text,\n",
    "                           in_text)\n",
    "for query in out.queries:\n",
    "    print(query)"
   ]
  },
  {
   "cell_type": "markdown",
   "id": "d1478a3c-d0d5-4749-89a7-c250a3fa451c",
   "metadata": {},
   "source": [
    "Summaries appear to be quite good.\n",
    "\n",
    "Let's now define tags and ask the model to classify each query into a tag. In the Tag class, we set its docstring to the rules we want for the classification. This is done in the docstring because the class is not derived from BaseModel, so we cannot set a Field(description=\"...\") for each item.\n",
    "\n",
    "No longer asking for the query_text in the Query class to keep output shorter."
   ]
  },
  {
   "cell_type": "code",
   "execution_count": 31,
   "id": "b57062b8-cb4b-4dac-b792-852d764efb96",
   "metadata": {},
   "outputs": [
    {
     "name": "stdout",
     "output_type": "stream",
     "text": [
      "id=1 query_summary='Asking about trial period' query_tag=<Tag.PRE_SALES: 'pre_sales'>\n",
      "id=2 query_summary='Reporting app glitch after update' query_tag=<Tag.TECH_SUPPORT: 'tech_support'>\n",
      "id=3 query_summary='Inquiring about pricing plans' query_tag=<Tag.PRE_SALES: 'pre_sales'>\n",
      "id=4 query_summary='Requesting password reset instructions' query_tag=<Tag.ACCOUNT: 'account'>\n",
      "id=5 query_summary='Asking about device compatibility' query_tag=<Tag.PRE_SALES: 'pre_sales'>\n",
      "id=6 query_summary='Tracking recent order and delivery date' query_tag=<Tag.OTHER: 'other'>\n",
      "id=7 query_summary='Inquiring about customer loyalty program' query_tag=<Tag.BILLING: 'billing'>\n",
      "id=8 query_summary='Asking about refund policy for online courses' query_tag=<Tag.PRE_SALES: 'pre_sales'>\n",
      "id=9 query_summary='Seeking warranty coverage and limitations' query_tag=<Tag.OTHER: 'other'>\n",
      "id=10 query_summary='Inquiring about customer support hours' query_tag=<Tag.OTHER: 'other'>\n"
     ]
    }
   ],
   "source": [
    "class Tag(str, Enum):\n",
    "    \"\"\"Queries can be classified into the following tags:\n",
    "tech_support: queries related with technical problems.\n",
    "billing: post-sale queries about billing cycle, or subscription termination.\n",
    "account: queries about user account problems.\n",
    "pre_sales: queries from prospective customers (who have not yet purchased).\n",
    "other: all other query topics.\"\"\"\n",
    "    \n",
    "    TECH_SUPPORT = \"tech_support\"\n",
    "    BILLING = \"billing\"\n",
    "    PRE_SALES = \"pre_sales\"\n",
    "    ACCOUNT = \"account\"\n",
    "    OTHER = \"other\"\n",
    "    \n",
    "class Query(BaseModel):\n",
    "    id: int\n",
    "    query_summary: str\n",
    "    query_tag: Tag\n",
    "    \n",
    "class QueryTags(BaseModel):\n",
    "    queries: List[Query]\n",
    "\n",
    "out = model.query_pydantic(QueryTags,\n",
    "                           inst_text,\n",
    "                           in_text)\n",
    "for query in out.queries:\n",
    "    print(query)"
   ]
  },
  {
   "cell_type": "markdown",
   "id": "52926cae-ecc5-497d-8874-cabfc98cb36a",
   "metadata": {},
   "source": [
    "The applied tags appear mostly reasonable. \n",
    "\n",
    "Of course, pre-sales tagging could be done automatically from a database of existing customer contacts, but the model is doing a good job of identifying questions likely to be pre-sales, like ids 1, 3, 5 and 8 which are questions typically asked before buying/subscribing.\n",
    "\n",
    "Also, classification is being done from a single phrase. More text in each customer query could allow for fine grained classification."
   ]
  }
 ],
 "metadata": {
  "kernelspec": {
   "display_name": "Python 3 (ipykernel)",
   "language": "python",
   "name": "python3"
  },
  "language_info": {
   "codemirror_mode": {
    "name": "ipython",
    "version": 3
   },
   "file_extension": ".py",
   "mimetype": "text/x-python",
   "name": "python",
   "nbconvert_exporter": "python",
   "pygments_lexer": "ipython3",
   "version": "3.11.6"
  }
 },
 "nbformat": 4,
 "nbformat_minor": 5
}
