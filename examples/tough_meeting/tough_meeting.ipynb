{
 "cells": [
  {
   "cell_type": "markdown",
   "id": "ab7f9a03-0a0a-40a2-bbcd-d70573881891",
   "metadata": {},
   "source": [
    "In this example we'll look at extracting participants and action items from a meeting transcript.\n",
    "\n",
    "Start by creating the model. As you'll see below, the transcript is large, with complex language, so we'll use OpenAI's GPT-4 this time. You can still use a local model by uncommenting the commented lines below.\n",
    "\n",
    "Make sure to set your OPENAI_API_KEY env variable.\n",
    "\n",
    "Available as a [Jupyter notebook](tough_meeting.ipynb) or [Python script](tough_meeting.py).\n",
    "\n",
    "Let's create the model."
   ]
  },
  {
   "cell_type": "code",
   "execution_count": 2,
   "id": "ba7f2c2b-3681-4128-8127-3b3368ea4708",
   "metadata": {},
   "outputs": [],
   "source": [
    "# load env variables like OPENAI_API_KEY from a .env file (if available)\n",
    "try: from dotenv import load_dotenv; load_dotenv()\n",
    "except: ...\n",
    "\n",
    "from sibila import Models, GenConf\n",
    "\n",
    "# delete any previous model\n",
    "try: del model\n",
    "except: ...\n",
    "\n",
    "# to use a local model, assuming it's in ../../models:\n",
    "# setup models folder:\n",
    "# Models.setup(\"../../models\")\n",
    "# the transcript is large, so we'll create the model with a context length of 3072, which should be enough.\n",
    "# model = Models.create(\"llamacpp:openchat-3.5-1210.Q4_K_M.gguf\", ctx_len=3072)\n",
    "\n",
    "# to use an OpenAI model:\n",
    "model = Models.create(\"openai:gpt-4\", ctx_len=3072)"
   ]
  },
  {
   "cell_type": "markdown",
   "id": "91f9da18-441e-412e-8263-4a219c7a6d75",
   "metadata": {},
   "source": [
    "We'll use a sample meeting transcript from https://www.ctas.tennessee.edu/eli/sample-meeting-transcript"
   ]
  },
  {
   "cell_type": "code",
   "execution_count": 3,
   "id": "d9619277-60ae-4716-9543-7dee530f2bea",
   "metadata": {},
   "outputs": [],
   "source": [
    "transcript = \"\"\"\\\n",
    "Chairman Wormsley (at the proper time and place, after taking the chair and striking the gavel on the table): This meeting of the CTAS County Commission will come to order. Clerk please call the role. (Ensure that a majority of the members are present.)\n",
    "\n",
    "Chairman Wormsley: Each of you has received the agenda. I will entertain a motion that the agenda be approved.\n",
    "\n",
    "Commissioner Brown: So moved.\n",
    "\n",
    "Commissioner Hobbs: Seconded\n",
    "\n",
    "Chairman Wormsley: It has been moved and seconded that the agenda be approved as received by the members. All those in favor signify by saying \"Aye\"?...Opposed by saying \"No\"?...The agenda is approved. You have received a copy of the minutes of the last meeting. Are there any corrections or additions to the meeting?\n",
    "\n",
    "Commissioner McCroskey: Mister Chairman, my name has been omitted from the Special Committee on Indigent Care.\n",
    "\n",
    "Chairman Wormsley: Thank you. If there are no objections, the minutes will be corrected to include the name of Commissioner McCroskey. Will the clerk please make this correction. Any further corrections? Seeing none, without objection the minutes will stand approved as read. (This is sort of a short cut way that is commonly used for approval of minutes and/or the agenda rather than requiring a motion and second.)\n",
    "\n",
    "Chairman Wormsley: Commissioner Adkins, the first item on the agenda is yours.\n",
    "\n",
    "Commissioner Adkins: Mister Chairman, I would like to make a motion to approve the resolution taking money from the Data Processing Reserve Account in the County Clerk's office and moving it to the equipment line to purchase a laptop computer.\n",
    "\n",
    "Commissioner Carmical: I second the motion.\n",
    "\n",
    "Chairman Wormsley: This resolution has a motion and second. Will the clerk please take the vote.\n",
    "\n",
    "Chairman Wormsley: The resolution passes. We will now take up old business. At our last meeting, Commissioner McKee, your motion to sell property near the airport was deferred to this meeting. You are recognized.\n",
    "\n",
    "Commissioner McKee: I move to withdraw that motion.\n",
    "\n",
    "Chairman Wormsley: Commissioner McKee has moved to withdraw his motion to sell property near the airport. Seeing no objection, this motion is withdrawn. The next item on the agenda is Commissioner Rodgers'.\n",
    "\n",
    "Commissioner Rodgers: I move adopton of the resolution previously provided to each of you to increase the state match local litigation tax in circuit, chancery, and criminal courts to the maximum amounts permissible. This resolution calls for the increases to go to the general fund.\n",
    "\n",
    "Chairman Wormsley: Commissioner Duckett\n",
    "\n",
    "Commissioner Duckett: The sheriff is opposed to this increase.\n",
    "\n",
    "Chairman Wormsley: Commissioner, you are out of order because this motion has not been seconded as needed before the floor is open for discussion or debate. Discussion will begin after we have a second. Is there a second?\n",
    "\n",
    "Commissioner Reinhart: For purposes of discussion, I second the motion.\n",
    "\n",
    "Chairman Wormsley: Commissioner Rodgers is recognized.\n",
    "\n",
    "Commissioner Rodgers: (Speaks about the data on collections, handing out all sorts of numerical figures regarding the litigation tax, and the county's need for additional revenue.)\n",
    "\n",
    "Chairman Wormsley: Commissioner Duckett\n",
    "\n",
    "Commissioner Duckett: I move an amendment to the motion to require 25 percent of the proceeds from the increase in the tax on criminal cases go to fund the sheriff's department.\n",
    "\n",
    "Chairman Wormsley: Commissioner Malone\n",
    "\n",
    "Commissioner Malone: I second the amendment.\n",
    "\n",
    "Chairman Wormsley: A motion has been made and seconded to amend the motion to increase the state match local litigation taxes to the maximum amounts to require 25 percent of the proceeds from the increase in the tax on criminal cases in courts of record going to fund the sheriff's department. Any discussion? Will all those in favor please raise your hand? All those opposed please raise your hand. The amendment carries 17-2. We are now on the motion as amended. Any further discussion?\n",
    "\n",
    "Commissioner Headrick: Does this require a two-thirds vote?\n",
    "\n",
    "Chairman Wormsley: Will the county attorney answer that question?\n",
    "\n",
    "County Attorney Fults: Since these are only courts of record, a majority vote will pass it. The two-thirds requirement is for the general sessions taxes.\n",
    "\n",
    "Chairman Wormsley: Other questions or discussion? Commissioner Adams.\n",
    "\n",
    "Commissioner Adams: Move for a roll call vote.\n",
    "\n",
    "Commissioner Crenshaw: Second\n",
    "\n",
    "Chairman Wormsley: The motion has been made and seconded that the state match local litigation taxes be increased to the maximum amounts allowed by law with 25 percent of the proceeds from the increase in the tax on criminal cases in courts of record going to fund the sheriff's department. Will all those in favor please vote as the clerk calls your name, those in favor vote \"aye,\" those against vote \"no.\" Nine votes for, nine votes against, one not voting. The increase fails. We are now on new business. Commissioner Adkins, the first item on the agenda is yours.\n",
    "\n",
    "Commissioner Adkins: Each of you has previously received a copy of a resolution to increase the wheel tax by $10 to make up the state cut in education funding. I move adoption of this resolution.\n",
    "\n",
    "Chairman Wormsley: Commissioner Thompson\n",
    "\n",
    "Commissioner Thompson: I second.\n",
    "\n",
    "Chairman Wormsley: It has been properly moved and seconded that a resolution increasing the wheel tax by $10 to make up the state cut in education funding be passed. Any discussion? (At this point numerous county commissioners speak for and against increasing the wheel tax and making up the education cuts. This is the first time this resolution is under consideration.) Commissioner Hayes is recognized.\n",
    "\n",
    "Commissioner Hayes: I move previous question.\n",
    "\n",
    "Commisioner Crenshaw: Second.\n",
    "\n",
    "Chairman Wormsley: Previous question has been moved and seconded. As you know, a motion for previous question, if passed by a two-thirds vote, will cut off further debate and require us to vote yes or no on the resolution before us. You should vote for this motion if you wish to cut off further debate of the wheel tax increase at this point. Will all those in favor of previous question please raise your hand? Will all those against please raise your hand? The vote is 17-2. Previous question passes. We are now on the motion to increase the wheel tax by $10 to make up the state cut in education funding. Will all those in favor please raise your hand? Will all those against please raise your hand? The vote is 17-2. This increase passes on first passage. Is there any other new business? Since no member is seeking recognition, are there announcements? Commissioner Hailey.\n",
    "\n",
    "Commissioner Hailey: There will be a meeting of the Budget Committee to look at solid waste funding recommendations on Tuesday, July 16 at noon here in this room.\n",
    "\n",
    "Chairman Wormsley: Any other announcements? The next meeting of this body will be Monday, August 19 at 7 p.m., here in this room. Commissioner Carmical.\n",
    "\n",
    "Commissioner Carmical: There will be a chili supper at County Elementary School on August 16 at 6:30 p.m. Everyone is invited.\n",
    "\n",
    "Chairman Wormsley: Commissioner Austin.\n",
    "\n",
    "Commissioner Austin: Move adjournment.\n",
    "\n",
    "Commissioner Garland: Second.\n",
    "\n",
    "Chairman Wormsley: Without objection, the meeting will stand adjourned.\n",
    "\"\"\"\n",
    "\n",
    "# model instructions text, also known as system message\n",
    "inst_text = \"Extract information and output in JSON format.\""
   ]
  },
  {
   "cell_type": "markdown",
   "id": "6ab22040-d661-4393-bae8-048368df4508",
   "metadata": {},
   "source": [
    "As you can see, this is a quite large transcript, filled with long names and complex phrases. Let's see how the model will handle it...\n",
    "\n",
    "Let's start by extracting the names of the participants in the meeting.\n",
    "\n",
    "We'll create the Meeting class with a list of strings, to receive the names of mentioned participants.\n",
    "\n",
    "The model will take clues from the variable names as well as from the description Field we set. In this case we name the string list \"participants\" and add a description of what we're looking to receive."
   ]
  },
  {
   "cell_type": "code",
   "execution_count": 4,
   "id": "6aae49ab-f80f-4fb3-8486-b89a762e84cf",
   "metadata": {},
   "outputs": [
    {
     "name": "stdout",
     "output_type": "stream",
     "text": [
      "participants=['Chairman Wormsley', 'Commissioner Brown', 'Commissioner Hobbs', 'Commissioner McCroskey', 'Commissioner Adkins', 'Commissioner Carmical', 'Commissioner McKee', 'Commissioner Rodgers', 'Commissioner Duckett', 'Commissioner Reinhart', 'Commissioner Malone', 'Commissioner Headrick', 'County Attorney Fults', 'Commissioner Adams', 'Commissioner Crenshaw', 'Commissioner Thompson', 'Commissioner Hayes', 'Commissioner Hailey', 'Commissioner Carmical', 'Commissioner Austin', 'Commissioner Garland']\n"
     ]
    }
   ],
   "source": [
    "from pydantic import BaseModel, Field\n",
    "\n",
    "# this class definition will be used to constrain the model output and initialize an instance object\n",
    "class Meeting(BaseModel):\n",
    "    participants: list[str] = Field(description=\"List of complete names of meeting participants\")\n",
    "\n",
    "in_text = \"Extract information from this meeting transcript:\\n\\n\" + transcript\n",
    "\n",
    "out = model.extract(Meeting,\n",
    "                    in_text,\n",
    "                    inst=inst_text)\n",
    "print(out)"
   ]
  },
  {
   "cell_type": "code",
   "execution_count": 5,
   "id": "e700e393-b5d7-4041-8d5e-db125969d15d",
   "metadata": {},
   "outputs": [
    {
     "name": "stdout",
     "output_type": "stream",
     "text": [
      "Chairman Wormsley\n",
      "Commissioner Brown\n",
      "Commissioner Hobbs\n",
      "Commissioner McCroskey\n",
      "Commissioner Adkins\n",
      "Commissioner Carmical\n",
      "Commissioner McKee\n",
      "Commissioner Rodgers\n",
      "Commissioner Duckett\n",
      "Commissioner Reinhart\n",
      "Commissioner Malone\n",
      "Commissioner Headrick\n",
      "County Attorney Fults\n",
      "Commissioner Adams\n",
      "Commissioner Crenshaw\n",
      "Commissioner Thompson\n",
      "Commissioner Hayes\n",
      "Commissioner Hailey\n",
      "Commissioner Carmical\n",
      "Commissioner Austin\n",
      "Commissioner Garland\n"
     ]
    }
   ],
   "source": [
    "# print the generated participants list:\n",
    "for part in out.participants:\n",
    "    print(part)"
   ]
  },
  {
   "cell_type": "markdown",
   "id": "b7b10638-ff20-4b30-84b5-40a1df09399a",
   "metadata": {},
   "source": [
    "Some names appear twice (\"Commissioner Carmical\") and the \"clerk\", which is mentioned in the text, is not listed.\n",
    "\n",
    "It's a matter of opinion if the clerk is an active participant, but let's try to fix the repeated names.\n",
    "\n",
    "Let's try asking for a list of participants \"without repeated entries\", in the field's description:"
   ]
  },
  {
   "cell_type": "code",
   "execution_count": 6,
   "id": "59343039-624d-4070-be9f-8896571d3bfd",
   "metadata": {},
   "outputs": [
    {
     "name": "stdout",
     "output_type": "stream",
     "text": [
      "Wormsley\n",
      "Brown\n",
      "Hobbs\n",
      "McCroskey\n",
      "Adkins\n",
      "Carmical\n",
      "McKee\n",
      "Rodgers\n",
      "Duckett\n",
      "Reinhart\n",
      "Malone\n",
      "Headrick\n",
      "Fults\n",
      "Adams\n",
      "Crenshaw\n",
      "Thompson\n",
      "Hayes\n",
      "Hailey\n",
      "Austin\n",
      "Garland\n"
     ]
    }
   ],
   "source": [
    "class Meeting(BaseModel):\n",
    "    participants: list[str] = Field(description=\"List of complete names of meeting participants without repeated entries\")\n",
    "\n",
    "out = model.extract(Meeting,\n",
    "                    in_text,\n",
    "                    inst=inst_text)\n",
    "\n",
    "for part in out.participants:\n",
    "    print(part)"
   ]
  },
  {
   "cell_type": "markdown",
   "id": "0ff45536-d3fc-4e4d-a248-9d9ea88e30ed",
   "metadata": {},
   "source": [
    "Didn't work as expected, repetition is gone but it dropped the titles, only names are appearing.\n",
    "\n",
    "Let's try asking for \"names and titles\":"
   ]
  },
  {
   "cell_type": "code",
   "execution_count": 8,
   "id": "7bb4b673-b1ba-4c42-b032-4a30cc78e4bc",
   "metadata": {},
   "outputs": [
    {
     "name": "stdout",
     "output_type": "stream",
     "text": [
      "Chairman Wormsley\n",
      "Commissioner Brown\n",
      "Commissioner Hobbs\n",
      "Commissioner McCroskey\n",
      "Commissioner Adkins\n",
      "Commissioner Carmical\n",
      "Commissioner McKee\n",
      "Commissioner Rodgers\n",
      "Commissioner Duckett\n",
      "Commissioner Reinhart\n",
      "Commissioner Malone\n",
      "Commissioner Headrick\n",
      "County Attorney Fults\n",
      "Commissioner Adams\n",
      "Commissioner Crenshaw\n",
      "Commissioner Thompson\n",
      "Commissioner Hayes\n",
      "Commissioner Hailey\n",
      "Commissioner Carmical\n",
      "Commissioner Austin\n",
      "Commissioner Garland\n"
     ]
    }
   ],
   "source": [
    "class Meeting(BaseModel):\n",
    "    participants: list[str] = Field(description=\"List of names and titles of participants without repeated entries\")\n",
    "\n",
    "out = model.extract(Meeting,\n",
    "                    in_text,\n",
    "                    inst=inst_text)\n",
    "\n",
    "for part in out.participants:\n",
    "    print(part)"
   ]
  },
  {
   "cell_type": "markdown",
   "id": "85ccd384-d6be-4740-8de7-2aeda39f30e3",
   "metadata": {},
   "source": [
    "And now \"Commissioner Carmical\" is repeating again! \n",
    "\n",
    "Let's move on, the point is that you can also do some prompt engineering with the description field. And this model shortcoming could be dealt with by post-processing the received list.\n",
    "    \n",
    "Let's now also request a list of action items mentioned in the transcript:"
   ]
  },
  {
   "cell_type": "code",
   "execution_count": 9,
   "id": "fc8397ed-6aaf-4ed9-b0d2-3103d77a0b3d",
   "metadata": {},
   "outputs": [
    {
     "name": "stdout",
     "output_type": "stream",
     "text": [
      "Participants ----------------\n",
      "Chairman Wormsley\n",
      "Commissioner Brown\n",
      "Commissioner Hobbs\n",
      "Commissioner McCroskey\n",
      "Commissioner Adkins\n",
      "Commissioner Carmical\n",
      "Commissioner McKee\n",
      "Commissioner Rodgers\n",
      "Commissioner Duckett\n",
      "Commissioner Reinhart\n",
      "Commissioner Malone\n",
      "Commissioner Headrick\n",
      "County Attorney Fults\n",
      "Commissioner Adams\n",
      "Commissioner Crenshaw\n",
      "Commissioner Thompson\n",
      "Commissioner Hayes\n",
      "Commissioner Hailey\n",
      "Commissioner Carmical\n",
      "Commissioner Austin\n",
      "Commissioner Garland\n",
      "Action items ----------------\n",
      "index=1 name='Approve the agenda'\n",
      "index=2 name='Correct the minutes to include Commissioner McCroskey in the Special Committee on Indigent Care'\n",
      "index=3 name='Approve the resolution to transfer funds from the Data Processing Reserve Account to purchase a laptop'\n",
      "index=4 name='Withdraw the motion to sell property near the airport'\n",
      "index=5 name='Adopt the resolution to increase the state match local litigation tax'\n",
      "index=6 name=\"Amend the motion to allocate 25 percent of the proceeds from the tax increase to fund the sheriff's department\"\n",
      "index=7 name='Vote on the state match local litigation taxes increase with the amendment'\n",
      "index=8 name='Adopt the resolution to increase the wheel tax by $10 for education funding'\n",
      "index=9 name='Hold a Budget Committee meeting on solid waste funding recommendations'\n",
      "index=10 name='Announce the chili supper at County Elementary School'\n"
     ]
    }
   ],
   "source": [
    "class ActionItem(BaseModel):\n",
    "    index: int = Field(description=\"Sequential index for the action item\")\n",
    "    name: str = Field(description=\"Action item name\")\n",
    "\n",
    "class Meeting(BaseModel):\n",
    "    participants: list[str] = Field(description=\"List of complete names of meeting participants\")\n",
    "    action_items: list[ActionItem] = Field(description=\"List of action items in the meeting\")\n",
    "\n",
    "out = model.extract(Meeting,\n",
    "                    in_text,\n",
    "                    inst=inst_text)\n",
    "\n",
    "print(\"Participants\", \"-\" * 16)\n",
    "for part in out.participants:\n",
    "    print(part)\n",
    "print(\"Action items\", \"-\" * 16)\n",
    "for ai in out.action_items:\n",
    "    print(ai)"
   ]
  },
  {
   "cell_type": "markdown",
   "id": "c0d56671-514c-471a-87fc-40d0af11faba",
   "metadata": {},
   "source": [
    "These are reasonable action items.\n",
    "\n",
    "Let's now also request a priority for each ActionItem - we'll create a string Enum class with three priority levels."
   ]
  },
  {
   "cell_type": "code",
   "execution_count": 10,
   "id": "ee283a8a-1f67-4c8c-a0d5-7a562258f5dc",
   "metadata": {},
   "outputs": [
    {
     "name": "stdout",
     "output_type": "stream",
     "text": [
      "Participants ----------------\n",
      "Chairman Wormsley\n",
      "Commissioner Brown\n",
      "Commissioner Hobbs\n",
      "Commissioner McCroskey\n",
      "Commissioner Adkins\n",
      "Commissioner Carmical\n",
      "Commissioner McKee\n",
      "Commissioner Rodgers\n",
      "Commissioner Duckett\n",
      "Commissioner Reinhart\n",
      "Commissioner Malone\n",
      "Commissioner Headrick\n",
      "County Attorney Fults\n",
      "Commissioner Adams\n",
      "Commissioner Crenshaw\n",
      "Commissioner Thompson\n",
      "Commissioner Hayes\n",
      "Commissioner Hailey\n",
      "Commissioner Carmical\n",
      "Commissioner Austin\n",
      "Commissioner Garland\n",
      "Action items ----------------\n",
      "index=1 name='Approve the agenda' priority=<ActionPriority.HIGH: 'high'>\n",
      "index=2 name='Correct the minutes to include Commissioner McCroskey' priority=<ActionPriority.MEDIUM: 'medium'>\n",
      "index=3 name='Approve the resolution to transfer funds for laptop purchase' priority=<ActionPriority.HIGH: 'high'>\n",
      "index=4 name='Withdraw motion to sell property near the airport' priority=<ActionPriority.MEDIUM: 'medium'>\n",
      "index=5 name='Adopt resolution to increase state match local litigation tax' priority=<ActionPriority.HIGH: 'high'>\n",
      "index=6 name=\"Amend resolution to allocate funds to sheriff's department\" priority=<ActionPriority.HIGH: 'high'>\n",
      "index=7 name='Vote on the amended resolution for litigation tax increase' priority=<ActionPriority.HIGH: 'high'>\n",
      "index=8 name='Adopt resolution to increase the wheel tax' priority=<ActionPriority.HIGH: 'high'>\n",
      "index=9 name='Budget Committee meeting on solid waste funding' priority=<ActionPriority.MEDIUM: 'medium'>\n",
      "index=10 name='Announce chili supper at County Elementary School' priority=<ActionPriority.LOW: 'low'>\n",
      "index=11 name='Adjourn the meeting' priority=<ActionPriority.MEDIUM: 'medium'>\n"
     ]
    }
   ],
   "source": [
    "from enum import Enum\n",
    "\n",
    "class ActionPriority(str, Enum):\n",
    "    HIGH = \"high\"\n",
    "    MEDIUM = \"medium\"\n",
    "    LOW = \"low\"\n",
    "    \n",
    "class ActionItem(BaseModel):\n",
    "    index: int = Field(description=\"Sequential index for the action item\")\n",
    "    name: str = Field(description=\"Action item name\")\n",
    "    priority: ActionPriority = Field(description=\"Action item priority\")\n",
    "\n",
    "class Meeting(BaseModel):\n",
    "    participants: list[str] = Field(description=\"List of complete names of meeting participants\")\n",
    "    action_items: list[ActionItem] = Field(description=\"List of action items in the meeting\")\n",
    "\n",
    "out = model.extract(Meeting,\n",
    "                    in_text,\n",
    "                    inst=inst_text)\n",
    "\n",
    "print(\"Participants\", \"-\" * 16)\n",
    "for part in out.participants:\n",
    "    print(part)\n",
    "print(\"Action items\", \"-\" * 16)\n",
    "for ai in out.action_items:\n",
    "    print(ai)"
   ]
  },
  {
   "cell_type": "markdown",
   "id": "1f9c6ff9-ae8d-46c6-b52f-05ce74ac8114",
   "metadata": {},
   "source": [
    "It's not clear from the meeting transcript text if these priorities are correct, but some items related to taxes are receiving high priorities, from the context, it looks reasonable that taxes are a priority. : )"
   ]
  }
 ],
 "metadata": {
  "kernelspec": {
   "display_name": "Python 3 (ipykernel)",
   "language": "python",
   "name": "python3"
  },
  "language_info": {
   "codemirror_mode": {
    "name": "ipython",
    "version": 3
   },
   "file_extension": ".py",
   "mimetype": "text/x-python",
   "name": "python",
   "nbconvert_exporter": "python",
   "pygments_lexer": "ipython3",
   "version": "3.11.6"
  }
 },
 "nbformat": 4,
 "nbformat_minor": 5
}
