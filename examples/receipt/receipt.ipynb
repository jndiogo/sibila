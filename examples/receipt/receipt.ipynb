{
 "cells": [
  {
   "cell_type": "markdown",
   "id": "46cb55e4-533a-40d5-8bdb-013a9711c9da",
   "metadata": {},
   "source": [
    "In this example we'll look at extracting structured information from a photo of a receipt.\n",
    "\n",
    "Sibila supports local models with image input support, but we'll use OpenAI's GPT-4o which works quite well. Make sure to set your OPENAI_API_KEY env variable.\n",
    "\n",
    "You can still use a local model by uncommenting the commented lines below. See the docs for some suggestions about local vision models.\n",
    "\n",
    "Jupyter notebook and Python script versions are available in the example's folder.\n",
    "\n",
    "Let's create the model:"
   ]
  },
  {
   "cell_type": "code",
   "execution_count": 1,
   "id": "bb30ad12-f9d4-4dce-8055-80920888aca1",
   "metadata": {},
   "outputs": [],
   "source": [
    "# load env variables like OPENAI_API_KEY from a .env file (if available)\n",
    "try: from dotenv import load_dotenv; load_dotenv()\n",
    "except: ...\n",
    "\n",
    "from sibila import Models\n",
    "\n",
    "# delete any previous model\n",
    "try: del model\n",
    "except: ...\n",
    "\n",
    "# to use a local model, assuming it's in ../../models:\n",
    "# setup models folder:\n",
    "# Models.setup(\"../../models\")\n",
    "# model = Models.create(\"llamacpp:llava-llama-3-8b-v1_1-int4.gguf*llava-llama-3-8b-v1_1-mmproj-f16.gguf\")\n",
    "\n",
    "# to use an OpenAI model:\n",
    "model = Models.create(\"openai:gpt-4o\")"
   ]
  },
  {
   "cell_type": "markdown",
   "id": "07df6cb6-b9dd-4da5-9caf-ae4b9f11e092",
   "metadata": {},
   "source": [
    "Let's use this photo of an [Italian receipt](https://commons.wikimedia.org/wiki/File:Receipts_in_Italy_13.jpg):\n",
    "\n",
    "![Receipt](https://upload.wikimedia.org/wikipedia/commons/6/6a/Receipts_in_Italy_13.jpg)\n",
    "\n",
    "To see if the model can handle it, let's try a free text query for the total. We'll pass a tuple of (text_prompt, image_url) -"
   ]
  },
  {
   "cell_type": "code",
   "execution_count": 8,
   "id": "36186484-3d0e-4b06-9edb-464282f08f76",
   "metadata": {},
   "outputs": [
    {
     "data": {
      "text/plain": [
       "'The total amount on the receipt is €5.88.'"
      ]
     },
     "execution_count": 8,
     "metadata": {},
     "output_type": "execute_result"
    }
   ],
   "source": [
    "model((\"How much is the total?\", \n",
    "       \"https://upload.wikimedia.org/wikipedia/commons/6/6a/Receipts_in_Italy_13.jpg\"))"
   ]
  },
  {
   "cell_type": "markdown",
   "id": "de712390-c4de-41a6-b5fd-2e19b17311b3",
   "metadata": {},
   "source": [
    "Good. Can the model extract the receipt item lines?"
   ]
  },
  {
   "cell_type": "code",
   "execution_count": 2,
   "id": "74a3f853-ad8e-48f3-b994-7adf158361dc",
   "metadata": {},
   "outputs": [
    {
     "data": {
      "text/plain": [
       "'The lines of paid items in the receipt are:\\n\\n1. BIS BORSE TERM. S - €3.90\\n2. GHIACCIO 2X400 G - €0.99\\n3. GHIACCIO 2X400 G - €0.99'"
      ]
     },
     "execution_count": 2,
     "metadata": {},
     "output_type": "execute_result"
    }
   ],
   "source": [
    "model((\"List the lines of paid items in the receipt?\", \n",
    "       \"https://upload.wikimedia.org/wikipedia/commons/6/6a/Receipts_in_Italy_13.jpg\"))"
   ]
  },
  {
   "cell_type": "markdown",
   "id": "696b376e-118c-4ca9-980d-44d417c28174",
   "metadata": {},
   "source": [
    "It did extract them well. \n",
    "\n",
    "Let's wrap this in a Pydantic object to get structured data from the model. We'll add a field for the data listed in the receipt:"
   ]
  },
  {
   "cell_type": "code",
   "execution_count": 2,
   "id": "c557d181-989f-4e1c-8129-0464eb5c15e0",
   "metadata": {},
   "outputs": [
    {
     "data": {
      "text/plain": [
       "Receipt(total=5.88, lines=[ReceiptLine(description='BIS BORSE TERM.S', cost=3.9), ReceiptLine(description='GHIACCIO 2X400 G', cost=0.99), ReceiptLine(description='GHIACCIO 2X400 G', cost=0.99)], date=datetime.datetime(2014, 8, 27, 19, 51, tzinfo=TzInfo(UTC)))"
      ]
     },
     "execution_count": 2,
     "metadata": {},
     "output_type": "execute_result"
    }
   ],
   "source": [
    "from pydantic import BaseModel, Field\n",
    "from datetime import datetime\n",
    "\n",
    "class ReceiptLine(BaseModel):\n",
    "    \"\"\"Receipt line data\"\"\"\n",
    "    description: str\n",
    "    cost: float\n",
    "\n",
    "class Receipt(BaseModel):\n",
    "    \"\"\"Receipt information\"\"\"\n",
    "    total: float = Field(description=\"Total value\")\n",
    "    lines: list[ReceiptLine] = Field(description=\"List of lines of paid items\")\n",
    "    date: datetime = Field(description=\"Listed date\")\n",
    "\n",
    "info = model.extract(Receipt,\n",
    "                     (\"Extract receipt information.\", \n",
    "                      \"https://upload.wikimedia.org/wikipedia/commons/6/6a/Receipts_in_Italy_13.jpg\"))\n",
    "info"
   ]
  },
  {
   "cell_type": "code",
   "execution_count": 4,
   "id": "a1a910c8-18d8-413d-a447-441517667867",
   "metadata": {},
   "outputs": [
    {
     "name": "stdout",
     "output_type": "stream",
     "text": [
      "description='BIS BORSE TERM.S' cost=3.9\n",
      "description='GHIACCIO 2X400 G' cost=0.99\n",
      "description='GHIACCIO 2X400 G' cost=0.99\n",
      "total: 5.88\n"
     ]
    }
   ],
   "source": [
    "for line in info.lines:\n",
    "    print(line)\n",
    "print(\"total:\", info.total)"
   ]
  },
  {
   "cell_type": "markdown",
   "id": "72aabd34-6b60-4e0f-9b90-83d7db2c4409",
   "metadata": {},
   "source": [
    "All the information is correct and structured in an object that we can use as needed.\n",
    "\n",
    "From here we could expand the Pydantic object with more fields to extract other information present in the receipt like merchant name, VAT number, etc."
   ]
  }
 ],
 "metadata": {
  "kernelspec": {
   "display_name": "Python 3 (ipykernel)",
   "language": "python",
   "name": "python3"
  },
  "language_info": {
   "codemirror_mode": {
    "name": "ipython",
    "version": 3
   },
   "file_extension": ".py",
   "mimetype": "text/x-python",
   "name": "python",
   "nbconvert_exporter": "python",
   "pygments_lexer": "ipython3",
   "version": "3.11.6"
  }
 },
 "nbformat": 4,
 "nbformat_minor": 5
}
