{
 "cells": [
  {
   "cell_type": "markdown",
   "id": "2b52fad0-b7cf-438f-83e7-9ca99b718034",
   "metadata": {},
   "source": [
    "In this example we'll see how to use the sibila Command-Line Interface (CLI) to download a GGUF model from the [Hugging Face model hub](https://huggingface.co).\n",
    "\n",
    "We'll then register it in the Models factory, so that it can be easily used with Models.create(). The Models factory is based in a folder where model GGUF format files are stored and two configuration files: \"models.json\" and \"formats.json\".\n",
    "\n",
    "After Doing the above, we'll be able to use this model in Python with two lines:\n",
    "\n",
    "``` python\n",
    "Models.setup(\"../../models\")\n",
    "\n",
    "model = Models.create(\"llamacpp:rocket\")\n",
    "```"
   ]
  },
  {
   "cell_type": "markdown",
   "id": "e8db8aac-814b-4e3f-babd-30da7131051a",
   "metadata": {},
   "source": [
    "Let's run sibila CLI to get help:\n",
    "\n",
    "```\n",
    "> sibila --help\n",
    "\n",
    "usage: sibila [-h] [--version] {models,formats,hub} ...\n",
    "\n",
    "Sibila CLI tool for managing models and formats.\n",
    "\n",
    "options:\n",
    "  -h, --help            show this help message and exit\n",
    "  --version             show program's version number and exit\n",
    "\n",
    "actions:\n",
    "  Use 'models' and 'formats' to manage, 'hub' to search and download models.\n",
    "\n",
    "  {models,formats,hub}  Run 'sibila {command} --help' for specific help.\n",
    "\n",
    "For help, check https://jndiogo.github.io/sibila/\n",
    "\n",
    "```\n",
    "\n",
    "Sibila CLI has three modes:\n",
    "\n",
    "- models: to edit a 'models.json' file, create model entries set format, etc.\n",
    "- formats: to edit a 'formats.json' file, add new formats, etc.\n",
    "- hub: search and download models from Hugging Face model hub.\n",
    "\n",
    "Specific help for each mode is available by doing: sibila mode --help\n"
   ]
  },
  {
   "cell_type": "markdown",
   "id": "9510b5e1-266f-4e81-9dbc-f0a17785cfd5",
   "metadata": {},
   "source": [
    "Let's download the Rocket 3B model, a small but capable model, fine-tuned for chat/instruct prompts:\n",
    "\n",
    "[https://huggingface.co/TheBloke/rocket-3B-GGUF](https://huggingface.co/TheBloke/rocket-3B-GGUF)\n",
    "\n",
    "We'll use a \"sibila hub -d\" command to download to \"../../models\" folder. We'll get the 4-bit quantization (Q4_K_M):\n",
    "\n",
    "```\n",
    "> sibila hub -d 'TheBloke/rocket-3B-GGUF' -f Q4_K_M -m '../../models'\n",
    "\n",
    "Searching...\n",
    "Downloading model 'TheBloke/rocket-3B-GGUF' file 'rocket-3b.Q4_K_M.gguf' to '../../models/rocket-3b.Q4_K_M.gguf'\n",
    "                                                                                                             \n",
    "Download complete.\n",
    "For information about this and other models, please visit https://huggingface.co\n",
    "```\n",
    "\n",
    "After this command, the \"rocket-3b.Q4_K_M.gguf\" file has now been downloaded to the \"../../models\" folder."
   ]
  },
  {
   "cell_type": "markdown",
   "id": "4879103b-d275-45d5-a15d-685ab2572af8",
   "metadata": {},
   "source": [
    "We'll now register it with the Models factory, which is located in the folder to where we downloaded the model.\n",
    "\n",
    "This can be done by editing the \"models.json\" file directly or even simpler, with a \"sibila models -s\" command:\n",
    "\n",
    "```\n",
    "> sibila models -s llamacpp:rocket rocket-3b.Q4_K_M.gguf -m '../../models'\n",
    "\n",
    "Using models directory '../../models'\n",
    "Set model 'llamacpp:rocket' with name='rocket-3b.Q4_K_M.gguf' at '/home/jorge/ai/sibila/models/models.json'.\n",
    "```\n",
    "\n",
    "An entry has now been created in \"models.json\" for this model."
   ]
  },
  {
   "cell_type": "markdown",
   "id": "8a11c138-6db6-41a4-8fdf-ea7d9a25ad3f",
   "metadata": {},
   "source": [
    "However, we did not set the chat template format - but let's first test if the downloaded GGUF file already includes it in its metadata.\n",
    "\n",
    "This is done with \"sibila models -t\":\n",
    "\n",
    "```\n",
    "> sibila models -t llamacpp:rocket -m '../../models'\n",
    "\n",
    "Using models directory '../../models'\n",
    "Testing model 'llamacpp:rocket'...\n",
    "Error: Could not find a suitable chat template format for this model. Without a format, fine-tuned models cannot function properly. See the docs on how you can fix this: either setup the format in Models factory, or provide the chat template in the 'format' arg.\n",
    "```\n",
    "\n",
    "Error. Looks like we need to set the chat template format!\n",
    "\n",
    "Checking the [model's page](https://huggingface.co/TheBloke/rocket-3B-GGUF), we find that it uses the ChatML prompt/chat template, which is great because it's one of the base formats included with Sibila."
   ]
  },
  {
   "cell_type": "markdown",
   "id": "b12c25e3-2054-454b-b67e-42cf29f90c79",
   "metadata": {},
   "source": [
    "So let's set the template format in the \"llamacpp:rocket\" entry we've just created:\n",
    "\n",
    "```\n",
    "> sibila models -f llamacpp:rocket chatml -m '../../models'\n",
    "\n",
    "Using models directory '/home/jorge/ai/sibila/models'\n",
    "Updated model 'llamacpp:rocket' with format 'chatml' at '/home/jorge/ai/sibila/models/models.json'.\n",
    "```\n",
    "\n",
    "Let's now test again:\n",
    "\n",
    "```\n",
    "> sibila models -t llamacpp:rocket -m '../../models'\n",
    "\n",
    "Using models directory '../../models'\n",
    "Testing model 'llamacpp:rocket'...\n",
    "Model 'llamacpp:rocket' was properly created and should run fine.\n",
    "```\n",
    "\n",
    "Great - the model passed the test and should be ready for use.\n",
    "\n",
    "Let's try using it from Python:"
   ]
  },
  {
   "cell_type": "code",
   "execution_count": 1,
   "id": "8b922e01-12ab-4e63-b404-366b2ab7a3d1",
   "metadata": {},
   "outputs": [
    {
     "data": {
      "text/plain": [
       "\"Hello! I am an AI language model and I'm here to assist you with your questions or provide information if you have any. I am programmed to be polite and respectful, so please let me know how I can help you today.\""
      ]
     },
     "execution_count": 1,
     "metadata": {},
     "output_type": "execute_result"
    }
   ],
   "source": [
    "from sibila import Models\n",
    "\n",
    "Models.setup(\"../../models\") # the folder with models and configs\n",
    "\n",
    "model = Models.create(\"llamacpp:rocket\") # model name in provider:name format\n",
    "\n",
    "model(\"Hello there!\")"
   ]
  },
  {
   "cell_type": "markdown",
   "id": "9d26ea04-721b-4b5b-8f83-a906ae9c85f7",
   "metadata": {},
   "source": [
    "Seems to be working - and politely too!"
   ]
  }
 ],
 "metadata": {
  "kernelspec": {
   "display_name": "Python 3 (ipykernel)",
   "language": "python",
   "name": "python3"
  },
  "language_info": {
   "codemirror_mode": {
    "name": "ipython",
    "version": 3
   },
   "file_extension": ".py",
   "mimetype": "text/x-python",
   "name": "python",
   "nbconvert_exporter": "python",
   "pygments_lexer": "ipython3",
   "version": "3.11.6"
  }
 },
 "nbformat": 4,
 "nbformat_minor": 5
}
